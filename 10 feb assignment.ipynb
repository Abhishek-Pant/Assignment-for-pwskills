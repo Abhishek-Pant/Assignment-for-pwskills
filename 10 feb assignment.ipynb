{
 "cells": [
  {
   "cell_type": "code",
   "execution_count": 1,
   "id": "ca0e838b-8a70-4b57-ace3-7e4395598686",
   "metadata": {},
   "outputs": [],
   "source": [
    "# 1. Which function is used to open a file? What are the different modes of opening a file? Explain each mode of file opening."
   ]
  },
  {
   "cell_type": "code",
   "execution_count": null,
   "id": "cf4ef9ce-5a98-4a9b-a277-af3ab01062b3",
   "metadata": {},
   "outputs": [],
   "source": [
    "'''\n",
    "In Python, the open() function is used to open a file. \n",
    "The syntax for opening a file is as follows:\n",
    "\n",
    "           f = open(file_name, mode)\n",
    "The file_name argument is a string that represents the name of the file that you want to open, and the mode argument specifies the mode in which the file is opened.\n",
    "\n",
    "The different modes for opening a file in Python are:\n",
    "\n",
    "1. 'r' (Read Only): This is the default mode and is used to open a file for reading purposes only. If the file does not exist, an error is raised.\n",
    "2. 'w' (Write Only): This mode is used to open a file for writing purposes. If the file already exists, its contents are truncated and overwritten. \n",
    "If the file does not exist, a new file is created.\n",
    "3. 'a' (Append Only): This mode is used to open a file for writing purposes and appending data to the end of the file. If the file already exists, new data\n",
    "is appended to the end of the file. If the file does not exist, a new file is created.\n",
    "4. 'x' (Exclusive Creation): This mode is used to open a file for writing purposes, but only if the file does not already exist. If the file already exists,\n",
    "an error is raise.\n",
    "5. 'b' (Binary Mode): This mode is used to open a file in binary mode, which is useful for reading and writing binary data, such as images and audio files. \n",
    "The mode can be combined with any of the other modes, for example 'rb' for reading binary data, 'wb' for writing binary data, etc.\n",
    "6. '+' (Read and Write): This mode is used to open a file for both reading and writing purposes. The mode can be combined with any of the other modes, for \n",
    "example 'r+' for reading and writing text data, 'w+' for writing and reading text data, 'rb+' for reading and writing binary data, etc.\n",
    "'''\n",
    "\n",
    "f = open('sample.txt','w') # we can give any path where we want to create a file\n",
    "f.write('hello world')\n",
    "f.close()"
   ]
  },
  {
   "cell_type": "code",
   "execution_count": 2,
   "id": "2cc3facc-fd56-46be-a069-3ab91a92ac4c",
   "metadata": {},
   "outputs": [],
   "source": [
    "# 2. Why close() function is used? Why is it important to close a file?"
   ]
  },
  {
   "cell_type": "code",
   "execution_count": null,
   "id": "40eb1c36-6a83-476b-9551-a5c80476954b",
   "metadata": {},
   "outputs": [],
   "source": [
    "'''\n",
    "The close() function is used to close a file in Python and it is an important step in the file handling process. There are several reasons why you should close a file after \n",
    "you have finished working with it:\n",
    "\n",
    "1. Resource Management: When a file is opened, the operating system allocates a certain amount of memory and resources to that file. By closing the file, you free up these\n",
    "resources and allow the operating system to use them for other purposes.\n",
    "2. Data Integrity: When you write to a file, the data is stored in a buffer and may not be immediately written to the disk. Closing the file forces any remaining data in the\n",
    "buffer to be written to the disk, ensuring that the file contains all the data that you intended it to.\n",
    "3. Prevent Data Corruption: If a file is not closed properly, the file may become corrupt and the data stored in it may be lost. Closing the file ensures that the file is in\n",
    "a consistent state and the data is saved properly.\n",
    "4. Avoid Conflicts: If multiple programs try to open the same file simultaneously, it can lead to conflicts and data corruption. Closing a file ensures that other programs have \n",
    "access to the file and reduces the risk of conflicts.\n",
    "'''\n",
    "\n",
    "f = open('sample1.txt','w')\n",
    "f.write('hello world')\n",
    "f.write('\\nhow are you?')\n",
    "f.close()\n"
   ]
  },
  {
   "cell_type": "code",
   "execution_count": 3,
   "id": "24ba9f81-0179-4da6-83ad-1ece5ec269af",
   "metadata": {},
   "outputs": [],
   "source": [
    "# 3. Write a python program to create a text file. Write 'I want to become a Data Scientist' in that file. Then close the file. Open this file and read the content of the file. "
   ]
  },
  {
   "cell_type": "code",
   "execution_count": 1,
   "id": "081271b7-8f2d-4061-830f-57cb05d17d12",
   "metadata": {},
   "outputs": [
    {
     "name": "stdout",
     "output_type": "stream",
     "text": [
      "I want to become a Data Scientist\n"
     ]
    }
   ],
   "source": [
    "# create a text file\n",
    "with open('sample1.txt','w') as f:\n",
    "    f.write('I want to become a Data Scientist')\n",
    "    \n",
    "# close the file\n",
    "with open('sample1.txt','r') as f:\n",
    "    print(f.read())"
   ]
  },
  {
   "cell_type": "code",
   "execution_count": 4,
   "id": "cb845d9e-3aaa-467a-ad65-55615596e0d4",
   "metadata": {},
   "outputs": [],
   "source": [
    "# 4. Explain the following with python code: read(), readline() and readlines()."
   ]
  },
  {
   "cell_type": "code",
   "execution_count": null,
   "id": "5bbac10a-91aa-4116-9fcb-a5e05c8c5121",
   "metadata": {},
   "outputs": [],
   "source": [
    "'''\n",
    "In Python, the read(), readline(), and readlines() methods are used to read the contents of a text file. Here's a brief explanation of each method:\n",
    "\n",
    "1. read(): This method is used to read the entire contents of a file as a single string. For example:\n",
    "'''\n",
    "file = open(\"data_scientist.txt\", \"r\")\n",
    "contents = file.read()\n",
    "print(contents)\n",
    "file.close()\n",
    "'''\n",
    "2. readline(): This method is used to read a single line of a file at a time. For example:\n",
    "'''\n",
    "file = open(\"data_scientist.txt\", \"r\")\n",
    "line = file.readline()\n",
    "print(line)\n",
    "file.close()\n",
    "'''\n",
    "3. readlines(): This method is used to read all the lines of a file as a list of strings, where each string represents a single line of the file. For example:\n",
    "'''\n",
    "file = open(\"data_scientist.txt\", \"r\")\n",
    "lines = file.readlines()\n",
    "for line in lines:\n",
    "    print(line)\n",
    "file.close()"
   ]
  },
  {
   "cell_type": "code",
   "execution_count": 5,
   "id": "c3de6cce-e0de-47f6-9f58-26e2195d0852",
   "metadata": {},
   "outputs": [],
   "source": [
    "# 5. Explain why 'with' statement is used with open(). What is the advantage of using with statement and open() together?"
   ]
  },
  {
   "cell_type": "code",
   "execution_count": null,
   "id": "d825ce40-88a6-41e9-b62f-f8c6bc6c8515",
   "metadata": {},
   "outputs": [],
   "source": [
    "'''\n",
    "The with statement is used with the open() function in Python to automatically close the file after a block of code has been executed. This is known as a \"context manager\"\n",
    "and is a convenient way to ensure that the file is closed properly, even if an exception occurs.\n",
    "Here is an example of using the with statement with the open() function\n",
    "'''\n",
    "\n",
    "with open(\"data_scientist.txt\", \"r\") as file:\n",
    "    contents = file.read()\n",
    "    print(contents)\n",
    "    \n",
    "'''\n",
    "In this example, the with statement is used to open the file data_scientist.txt for reading. The file is assigned to the variable file and is automatically closed after \n",
    "the block of code has been executed. There is no need to call the close() method explicitly, as the file will be closed automatically when the block of code has been executed.\n",
    "The advantage of using the with statement with the open() function is that it helps to ensure that the file is closed properly, even if an exception occurs. This reduces\n",
    "the risk of data corruption and frees up system resources. Additionally, the with statement makes the code more readable and concise, as it eliminates the need to explicitly \n",
    "call the close() method.\n",
    "'''\n"
   ]
  },
  {
   "cell_type": "code",
   "execution_count": null,
   "id": "fe905b53-8a3c-4280-af1f-a511229d1730",
   "metadata": {},
   "outputs": [],
   "source": [
    "# 6. Explain the write() and writelines() functions.Give a suitable example."
   ]
  },
  {
   "cell_type": "code",
   "execution_count": null,
   "id": "c2e5f3e2-bb0e-4bb4-9588-a32c0f06ccea",
   "metadata": {},
   "outputs": [],
   "source": [
    "'''\n",
    "The write() and writelines() functions in Python are used to write to a text file.\n",
    "\n",
    "1. write(): This function is used to write a string to a text file. For example:\n",
    "lua\n",
    "'''\n",
    "\n",
    "file = open(\"data_scientist.txt\", \"w\")\n",
    "file.write(\"I want to become a Data Scientist\")\n",
    "file.close()\n",
    "\n",
    "'''\n",
    "2. writelines(): This function is used to write a list of strings to a text file. For example:\n",
    "'''\n",
    "\n",
    "file = open(\"data_scientist.txt\", \"w\")\n",
    "lines = [\"I want to become a Data Scientist\", \"I love working with data\"]\n",
    "file.writelines(lines)\n",
    "file.close()"
   ]
  },
  {
   "cell_type": "code",
   "execution_count": null,
   "id": "7fd6548c-378f-43c7-a601-f593cb86e9b8",
   "metadata": {},
   "outputs": [],
   "source": []
  }
 ],
 "metadata": {
  "kernelspec": {
   "display_name": "Python 3 (ipykernel)",
   "language": "python",
   "name": "python3"
  },
  "language_info": {
   "codemirror_mode": {
    "name": "ipython",
    "version": 3
   },
   "file_extension": ".py",
   "mimetype": "text/x-python",
   "name": "python",
   "nbconvert_exporter": "python",
   "pygments_lexer": "ipython3",
   "version": "3.10.8"
  }
 },
 "nbformat": 4,
 "nbformat_minor": 5
}
