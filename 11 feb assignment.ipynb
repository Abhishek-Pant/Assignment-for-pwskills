{
 "cells": [
  {
   "cell_type": "code",
   "execution_count": 1,
   "id": "241c0895-fc7a-4d23-b9d5-88f3f5ef61ab",
   "metadata": {},
   "outputs": [],
   "source": [
    "# 1. What is an Exception in python? Write the difference between Exception and Syntax errors."
   ]
  },
  {
   "cell_type": "code",
   "execution_count": null,
   "id": "fe63c3c7-dbe6-461d-8568-29cfc66750e6",
   "metadata": {},
   "outputs": [],
   "source": [
    "# There are 2 stages where error may happen in a program\n",
    "# 1. During compilation -> Syntax\n",
    "# 2. During execution -> Exceptions\n",
    "'''\n",
    "In Python, an exception is an event, which occurs during the execution of a program, that disrupts the normal flow of the program's instructions. An exception can be caused by\n",
    "a variety of things, such as an incorrect calculation, a missing file, or an attempted operation on an invalid data type.\n",
    "When an exception occurs, it raises an exception object, which contains information about the error that caused the exception. The exception object can then be caught and processed \n",
    "by the code, allowing the program to continue executing even in the presence of an error.\n",
    "\n",
    "Syntax errors, on the other hand, occur when the Python interpreter encounters code that does not conform to the rules of the Python syntax. Syntax errors are usually caused by \n",
    "typos, incorrect indentation, or other such mistakes in the code.\n",
    "\n",
    "In summary, the main difference between exceptions and syntax errors is that exceptions occur during runtime and can be caught and handled by the code, while syntax errors occur\n",
    "during the parsing stage of the program's execution and cannot be handled.\n",
    "'''"
   ]
  },
  {
   "cell_type": "code",
   "execution_count": 2,
   "id": "d6875cd7-5e5b-416b-a208-1beac26e28a2",
   "metadata": {},
   "outputs": [],
   "source": [
    "# 2. What happens when an exception is not handled? Explain with an example."
   ]
  },
  {
   "cell_type": "code",
   "execution_count": 6,
   "id": "521be0a0-3f8f-4492-89ab-94b4074521a4",
   "metadata": {},
   "outputs": [
    {
     "ename": "ZeroDivisionError",
     "evalue": "division by zero",
     "output_type": "error",
     "traceback": [
      "\u001b[0;31m---------------------------------------------------------------------------\u001b[0m",
      "\u001b[0;31mZeroDivisionError\u001b[0m                         Traceback (most recent call last)",
      "Cell \u001b[0;32mIn[6], line 10\u001b[0m\n\u001b[1;32m      7\u001b[0m a \u001b[38;5;241m=\u001b[39m \u001b[38;5;241m10\u001b[39m\n\u001b[1;32m      8\u001b[0m b \u001b[38;5;241m=\u001b[39m \u001b[38;5;241m0\u001b[39m\n\u001b[0;32m---> 10\u001b[0m result \u001b[38;5;241m=\u001b[39m \u001b[43ma\u001b[49m\u001b[43m \u001b[49m\u001b[38;5;241;43m/\u001b[39;49m\u001b[43m \u001b[49m\u001b[43mb\u001b[49m\n\u001b[1;32m     11\u001b[0m \u001b[38;5;28mprint\u001b[39m(result)\n\u001b[1;32m     12\u001b[0m \u001b[38;5;124;03m'''\u001b[39;00m\n\u001b[1;32m     13\u001b[0m \u001b[38;5;124;03mIf we run this code, it will raise a ZeroDivisionError exception because dividing by zero is undefined. If the exception is not handled, the program will stop executing and \u001b[39;00m\n\u001b[1;32m     14\u001b[0m \u001b[38;5;124;03mdisplay the following error message:\u001b[39;00m\n\u001b[1;32m     15\u001b[0m \u001b[38;5;124;03mThe error message shows that a ZeroDivisionError exception occurred on line 4 of the code, which is the line where the division is performed. If we had handled the exception,\u001b[39;00m\n\u001b[1;32m     16\u001b[0m \u001b[38;5;124;03mwe could have provided the user with a more meaningful error message or taken some other action to gracefully handle the error.\u001b[39;00m\n\u001b[1;32m     17\u001b[0m \u001b[38;5;124;03m'''\u001b[39;00m\n",
      "\u001b[0;31mZeroDivisionError\u001b[0m: division by zero"
     ]
    }
   ],
   "source": [
    "'''\n",
    "When an exception is not handled, the program will immediately stop executing and an error message will be displayed to the user. The error message provides information \n",
    "about the type of exception that occurred and where it occurred in the code.\n",
    "\n",
    "For example, consider the following code that attempts to divide two numbers:\n",
    "'''\n",
    "a = 10\n",
    "b = 0\n",
    "\n",
    "result = a / b\n",
    "print(result)\n",
    "'''\n",
    "If we run this code, it will raise a ZeroDivisionError exception because dividing by zero is undefined. If the exception is not handled, the program will stop executing and \n",
    "display the following error message:\n",
    "The error message shows that a ZeroDivisionError exception occurred on line 4 of the code, which is the line where the division is performed. If we had handled the exception,\n",
    "we could have provided the user with a more meaningful error message or taken some other action to gracefully handle the error.\n",
    "'''"
   ]
  },
  {
   "cell_type": "code",
   "execution_count": 3,
   "id": "ab08b955-3aa6-4899-9a88-4989413c4e5d",
   "metadata": {},
   "outputs": [],
   "source": [
    "# 3. Which Python statement are used to catch and handle exceptions? Explain with and example."
   ]
  },
  {
   "cell_type": "code",
   "execution_count": 9,
   "id": "31331b5f-ec2d-41fd-92d3-63bd43b511a5",
   "metadata": {},
   "outputs": [
    {
     "name": "stdout",
     "output_type": "stream",
     "text": [
      "Error: Cannot divide by zero.\n"
     ]
    },
    {
     "data": {
      "text/plain": [
       "'\\nIn this example, the code in the try block will raise a ZeroDivisionError if b is equal to zero. The except block will catch this exception and print an error message to the user,\\ninstead of stopping the program with a traceback error.\\n'"
      ]
     },
     "execution_count": 9,
     "metadata": {},
     "output_type": "execute_result"
    }
   ],
   "source": [
    "'''\n",
    "The try and except statements are used to catch and handle exceptions in Python. The try block contains the code that might raise an exception, and the except block contains\n",
    "the code that will be executed if an exception occurs.\n",
    "\n",
    "Here's a simple example:\n",
    "'''\n",
    "try:\n",
    "    a = 10\n",
    "    b = 0\n",
    "    result = a / b\n",
    "except ZeroDivisionError:\n",
    "    print(\"Error: Cannot divide by zero.\")\n",
    "    \n",
    "'''\n",
    "In this example, the code in the try block will raise a ZeroDivisionError if b is equal to zero. The except block will catch this exception and print an error message to the user,\n",
    "instead of stopping the program with a traceback error.\n",
    "'''"
   ]
  },
  {
   "cell_type": "code",
   "execution_count": 4,
   "id": "f9c4cff9-c59e-4769-9e34-4a95622462ae",
   "metadata": {},
   "outputs": [],
   "source": [
    "# 4. Expain with an example:\n",
    "# a. Try and ele\n",
    "# b. finally\n",
    "# c. raise"
   ]
  },
  {
   "cell_type": "code",
   "execution_count": 11,
   "id": "5dcc65a8-67c9-46a6-8228-309bcb39b3c0",
   "metadata": {},
   "outputs": [
    {
     "name": "stdout",
     "output_type": "stream",
     "text": [
      "The result is 30.\n",
      "Error: Cannot divide by zero.\n",
      "The 'try' block has finished executing.\n",
      "Cannot divide by zero.\n"
     ]
    }
   ],
   "source": [
    "'''\n",
    "a. try and else:\n",
    "The else clause in a try statement is executed when no exceptions are raised in the try block. The else clause can be used to specify a block of code that should be executed\n",
    "only if the try block does not raise an exception.\n",
    "'''\n",
    "try:\n",
    "    a = 10\n",
    "    b = 20\n",
    "    result = a + b\n",
    "except:\n",
    "    print(\"An error occurred.\")\n",
    "else:\n",
    "    print(f\"The result is {result}.\")\n",
    "    \n",
    "'''\n",
    "b. finally:\n",
    "The finally clause in a try statement is executed regardless of whether an exception is raised or not. The finally clause can be used to specify a block of code that should\n",
    "always be executed, regardless of the outcome of the try block.\n",
    "'''\n",
    "try:\n",
    "    a = 10\n",
    "    b = 0\n",
    "    result = a / b\n",
    "except ZeroDivisionError:\n",
    "    print(\"Error: Cannot divide by zero.\")\n",
    "finally:\n",
    "    print(\"The 'try' block has finished executing.\")\n",
    "    \n",
    "'''\n",
    "c. raise:\n",
    "The raise statement can be used to manually raise an exception in our code. The raise statement takes an exception object as its argument, which can be one of the built-in\n",
    "exception types in Python or a custom exception that you define.\n",
    "'''\n",
    "def divide(a, b):\n",
    "    if b == 0:\n",
    "        raise ZeroDivisionError(\"Cannot divide by zero.\")\n",
    "    return a / b\n",
    "\n",
    "try:\n",
    "    result = divide(10, 0)\n",
    "    print(result)\n",
    "except ZeroDivisionError as e:\n",
    "    print(e)"
   ]
  },
  {
   "cell_type": "code",
   "execution_count": 5,
   "id": "f3431a84-77f4-4f03-8cee-3e9939ae1f11",
   "metadata": {},
   "outputs": [],
   "source": [
    "# 5. What are Custom Exceptions in python? Why do we need Custom Exceptions? Explain with and example."
   ]
  },
  {
   "cell_type": "code",
   "execution_count": null,
   "id": "184a0412-71dd-4f24-80b4-366e5be9039c",
   "metadata": {},
   "outputs": [],
   "source": [
    "'''\n",
    "Custom exceptions in Python are user-defined exceptions that can be raised and caught in our code. Custom exceptions are necessary when the built-in exceptions provided\n",
    "by Python are not specific enough to describe the errors that occur in our code. By creating custom exceptions, we can provide more specific and meaningful error messages \n",
    "to the user, making it easier to identify and resolve errors in our code.\n",
    "'''\n",
    "class MyCustomException(Exception):\n",
    "    pass\n",
    "\n",
    "def divide(a, b):\n",
    "    if b == 0:\n",
    "        raise MyCustomException(\"Cannot divide by zero.\")\n",
    "    return a / b\n",
    "\n",
    "try:\n",
    "    result = divide(10, 0)\n",
    "    print(result)\n",
    "except MyCustomException as e:\n",
    "    print(e)\n",
    "    \n",
    "'''\n",
    "In this example, we define a custom exception MyCustomException by subclassing the built-in Exception class. We then define a function divide that takes two arguments and \n",
    "raises a MyCustomException if the second argument is equal to zero. The code in the try block calls the divide function and attempts to print the result. If a MyCustomException\n",
    "is raised, it will be caught and the error message will be displayed. By using a custom exception, we can provide a more specific error message to the user, making it easier \n",
    "to identify and resolve the error.\n",
    "'''"
   ]
  },
  {
   "cell_type": "code",
   "execution_count": null,
   "id": "b23ea35e-7f0f-41d5-8ac7-aac39cd3777c",
   "metadata": {},
   "outputs": [],
   "source": [
    "# 6. Create a custom exception class. Use this class to handle an exception."
   ]
  },
  {
   "cell_type": "code",
   "execution_count": 12,
   "id": "a6c91257-ac42-46a9-adc4-4bbbfc3308cb",
   "metadata": {},
   "outputs": [
    {
     "name": "stdout",
     "output_type": "stream",
     "text": [
      "paise nahi ha tere pass\n"
     ]
    }
   ],
   "source": [
    "class MyException(Exception):\n",
    "    def __init__(self,message):\n",
    "        print(message)\n",
    "\n",
    "class Bank:\n",
    "    def __init__(self,balance):\n",
    "        self.balance = balance\n",
    "    def withdraw(self,amount):\n",
    "        if amount<0:\n",
    "            raise MyException('amount cannot be -ve')\n",
    "        if self.balance < amount:\n",
    "            raise MyException('paise nahi ha tere pass')\n",
    "        self.balance = self.balance - amount\n",
    "        \n",
    "obj = Bank(10000)\n",
    "\n",
    "try: \n",
    "    obj.withdraw(15000)\n",
    "except MyException as e:\n",
    "    pass\n",
    "else:\n",
    "    print(obj.balance)"
   ]
  },
  {
   "cell_type": "code",
   "execution_count": null,
   "id": "fef84c34-4ced-4cc0-a82c-a1025227f60b",
   "metadata": {},
   "outputs": [],
   "source": []
  }
 ],
 "metadata": {
  "kernelspec": {
   "display_name": "Python 3 (ipykernel)",
   "language": "python",
   "name": "python3"
  },
  "language_info": {
   "codemirror_mode": {
    "name": "ipython",
    "version": 3
   },
   "file_extension": ".py",
   "mimetype": "text/x-python",
   "name": "python",
   "nbconvert_exporter": "python",
   "pygments_lexer": "ipython3",
   "version": "3.10.8"
  }
 },
 "nbformat": 4,
 "nbformat_minor": 5
}
