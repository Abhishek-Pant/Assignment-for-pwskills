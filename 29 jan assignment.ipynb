{
 "cells": [
  {
   "cell_type": "code",
   "execution_count": 13,
   "id": "15cfaed6-0fe3-4236-af9d-76f3014c7600",
   "metadata": {},
   "outputs": [],
   "source": [
    "# 1. Who developed Python Programming Language?"
   ]
  },
  {
   "cell_type": "code",
   "execution_count": 16,
   "id": "42e9aba0-6943-4837-bfea-76a83bcc9d8a",
   "metadata": {},
   "outputs": [],
   "source": [
    "'''\n",
    "Python was created by 'Guido van Rossum', and first released on Feb 20, 1991. The name of the Python programming language comes from an old BBC television comedy sketch series \n",
    "called Monty Python’s Flying Circus. One of the amazing features of Python is the fact that it is actually one person’s work, of course, Guido van Rossum did not develop and\n",
    "evolve all the Python components himself. Python is maintained by the Python Software Foundation, a non-profit membership organization and a community devoted to developing, \n",
    "improving, expanding, and popularizing the Python language and its environment.\n",
    "'''\n"
   ]
  },
  {
   "cell_type": "code",
   "execution_count": 15,
   "id": "1322aaef-7366-4898-ba92-34c7d3da469c",
   "metadata": {},
   "outputs": [],
   "source": [
    "# 2. Which type of Programming does Python support?"
   ]
  },
  {
   "cell_type": "code",
   "execution_count": null,
   "id": "dd6a0096-e604-434b-ab83-58139222e248",
   "metadata": {},
   "outputs": [],
   "source": [
    "'''\n",
    "Python supports multiple programming paradigms including:\n",
    "\n",
    "1. Object-Oriented Programming (OOP) - supports encapsulation, inheritance, and polymorphism.\n",
    "2. Structured Programming - supports procedural programming and uses functions, modules, and control structures.\n",
    "3. Functional Programming - supports higher-order functions, closures, and immutability.\n",
    "4. Aspect-Oriented Programming (AOP) - supports modularization of concerns that cross-cut multiple objects.\n",
    "\n",
    "In addition to these paradigms, Python also supports other programming styles and techniques, making it a versatile and flexible language.\n",
    "'''"
   ]
  },
  {
   "cell_type": "code",
   "execution_count": 1,
   "id": "eca0cb88-8349-4667-912a-fc80ec99867f",
   "metadata": {},
   "outputs": [],
   "source": [
    "# 3. Is Python case sensitive when dealing with identifiers?"
   ]
  },
  {
   "cell_type": "code",
   "execution_count": 5,
   "id": "96ea2387-1703-4684-94ec-60d951da5757",
   "metadata": {},
   "outputs": [
    {
     "name": "stdout",
     "output_type": "stream",
     "text": [
      "Abhishek\n",
      "Pant\n"
     ]
    }
   ],
   "source": [
    "'''\n",
    "Yes, Python is case sensitive when dealing with identifiers such as variables, functions, and class names. For example, a variable named name is different from a variable \n",
    "named Name or NAME. For example:\n",
    "'''\n",
    "name = 'Abhishek'\n",
    "print(name)\n",
    "\n",
    "Name = 'Pant'\n",
    "print(Name)"
   ]
  },
  {
   "cell_type": "code",
   "execution_count": 6,
   "id": "e0e1b7b3-ab22-4e9f-8f96-451644649a1a",
   "metadata": {},
   "outputs": [],
   "source": [
    "# 4. What is the correct extension of the python file?"
   ]
  },
  {
   "cell_type": "code",
   "execution_count": null,
   "id": "623129b9-bc59-4819-ac63-6f0b129da78b",
   "metadata": {},
   "outputs": [],
   "source": [
    "'''\n",
    "The correct extension of a Python file is .py. This extension is used to indicate that the file contains Python code and can be executed by the Python interpreter.\n",
    "'''"
   ]
  },
  {
   "cell_type": "code",
   "execution_count": 7,
   "id": "8611cdc6-48b9-46b4-a65e-347668619da4",
   "metadata": {},
   "outputs": [],
   "source": [
    "# 5. Is Python code compiled or Interpreted?"
   ]
  },
  {
   "cell_type": "code",
   "execution_count": null,
   "id": "ce0b7f6c-fc97-4722-a38f-6f9d032ddb8a",
   "metadata": {},
   "outputs": [],
   "source": [
    "'''\n",
    "Python code is interpreted, not compiled. This means that the code is executed line by line by the Python interpreter, rather than being translated into machine code and\n",
    "executed directly by the computer's processor. The advantage of interpretation is that it allows for more rapid development and testing, since there is no need to compile \n",
    "the code before executing it. Additionally, interpreted code can be executed on any machine with a Python interpreter installed, making it more portable than compiled code.\n",
    "'''"
   ]
  },
  {
   "cell_type": "code",
   "execution_count": 8,
   "id": "ebd26ffd-fcf1-4e52-a0b4-37ba5ff4b211",
   "metadata": {},
   "outputs": [],
   "source": [
    "# 6. Name a few blocks of code used to define in Python language?"
   ]
  },
  {
   "cell_type": "code",
   "execution_count": null,
   "id": "053bcfe0-88f5-4d45-a268-c57736bbbeeb",
   "metadata": {},
   "outputs": [],
   "source": [
    "'''\n",
    "In Python, there are several blocks of code used to define various elements of a program, including:\n",
    "\n",
    "1. Functions - a block of code that performs a specific task and can be called multiple times within a program. Functions are defined using the def keyword.\n",
    "2. Classes - a blueprint for creating objects, which can contain data and methods. Classes are defined using the class keyword.\n",
    "3. If-Else statements - a control structure used to make decisions in a program based on whether a condition is true or false.\n",
    "4. For and While loops - control structures used to repeat a block of code until a specific condition is met.\n",
    "5. Try-Except blocks - a block of code used to handle exceptions (errors) that may occur during the execution of a program.\n",
    "\n",
    "These blocks of code can be combined and nested to create complex programs in Python.\n",
    "'''"
   ]
  },
  {
   "cell_type": "code",
   "execution_count": 9,
   "id": "05a8e31c-e1e9-4d93-8533-f7d3633e8810",
   "metadata": {},
   "outputs": [],
   "source": [
    "# 7. State a character used to give single line comments in python?"
   ]
  },
  {
   "cell_type": "code",
   "execution_count": null,
   "id": "1debcfc0-2f52-4d28-8627-e3f242be3a70",
   "metadata": {},
   "outputs": [],
   "source": [
    "'''\n",
    "In Python, the character # is used to give single line comments. Anything following the # symbol on a line is considered a comment and is ignored by the Python interpreter.\n",
    "Comments are used to add human-readable explanations the code, making it easier for others (or yourself) to understand the code's purpose and functionality.\n",
    "'''\n",
    "# This is a single line comment"
   ]
  },
  {
   "cell_type": "code",
   "execution_count": 10,
   "id": "e87a71b8-f0a5-4c37-a47f-99b6e4c98124",
   "metadata": {},
   "outputs": [],
   "source": [
    "# 8. Mention functions which can help use to find the version of python that we are currnetly working on?"
   ]
  },
  {
   "cell_type": "code",
   "execution_count": 13,
   "id": "febc8514-7982-4d70-81b1-dab4b987dc0f",
   "metadata": {},
   "outputs": [
    {
     "name": "stdout",
     "output_type": "stream",
     "text": [
      "3.10.8 | packaged by conda-forge | (main, Nov 22 2022, 08:26:04) [GCC 10.4.0]\n",
      "3.10.8\n"
     ]
    }
   ],
   "source": [
    "'''\n",
    "We can find the version of Python you're currently working on by using the sys module's version attribute:\n",
    "'''\n",
    "import sys\n",
    "print(sys.version)\n",
    "\n",
    "'''Alternatively, you can use the platform module's python_version function:'''\n",
    "import platform\n",
    "print(platform.python_version())"
   ]
  },
  {
   "cell_type": "code",
   "execution_count": 14,
   "id": "7f804ad0-d399-4fbd-be2f-55c6a5736d52",
   "metadata": {},
   "outputs": [],
   "source": [
    "# 9. Python supports the creation of anonymouse functions at runtime, using a constuct called ______________."
   ]
  },
  {
   "cell_type": "code",
   "execution_count": 19,
   "id": "b6b0164f-6d81-41fd-922d-b02b97aed498",
   "metadata": {},
   "outputs": [
    {
     "name": "stdout",
     "output_type": "stream",
     "text": [
      "7\n"
     ]
    }
   ],
   "source": [
    "'''\n",
    "Python supports the creation of anonymous functions at runtime using a construct called lambda. A lambda function is a small, anonymous function that can be used to perform\n",
    "a specific task. It can take any number of arguments but can only have one expression. The expression is evaluated and returned when the function is called.\n",
    "lambda functions are often used when a small, throwaway function is needed, such as when using the map or filter functions. They can also be assigned to variables, passed as \n",
    "arguments to functions, and returned from functions, just like regular functions.\n",
    "'''\n",
    "sum = lambda a, b : a + b\n",
    "print(sum(3, 4))"
   ]
  },
  {
   "cell_type": "code",
   "execution_count": 20,
   "id": "c1f4fb49-d712-4fb9-8ed2-c2a1898ba5e3",
   "metadata": {},
   "outputs": [],
   "source": [
    "# 10. What does pip stand for python?"
   ]
  },
  {
   "cell_type": "code",
   "execution_count": null,
   "id": "75e3fc5a-1f96-4f68-93b7-d6393ce8d221",
   "metadata": {},
   "outputs": [],
   "source": [
    "'''\n",
    "pip stands for \"Pip Installs Packages.\" It is a package management system used to install and manage packages (libraries and tools) written in Python. Pip makes it easy to\n",
    "install and manage packages, as it automatically handles dependencies, resolves conflicts, and keeps track of what's installed. Pip allows you to easily download and install\n",
    "packages from the Python Package Index (PyPI) or from other sources.\n",
    "'''"
   ]
  },
  {
   "cell_type": "code",
   "execution_count": null,
   "id": "2cf73fec-aac3-4457-b2b7-730d89606624",
   "metadata": {},
   "outputs": [],
   "source": [
    "# 11. Mention a few built-in functions in python?"
   ]
  },
  {
   "cell_type": "code",
   "execution_count": null,
   "id": "ccd4cbce-01ed-43c6-aa4b-a8273ca516df",
   "metadata": {},
   "outputs": [],
   "source": [
    "'''\n",
    "Here are some of the most commonly used built-in functions in Python:\n",
    "\n",
    "print() - prints output to the console\n",
    "len() - returns the length of a sequence (e.g. string, list, etc.)\n",
    "type() - returns the type of an object\n",
    "sum() - returns the sum of a sequence of numbers\n",
    "max() - returns the largest item in a sequence\n",
    "min() - returns the smallest item in a sequence\n",
    "sorted() - returns a sorted list of items\n",
    "abs() - returns the absolute value of a number\n",
    "int() - converts a value to an integer\n",
    "float() - converts a value to a floating-point number\n",
    "str() - converts a value to a string\n",
    "range() - returns a range of numbers\n",
    "input() - receives input from the user\n",
    "open() - opens a file\n",
    "list() - converts a value to a list\n",
    "dict() - converts a value to a dictionary\n",
    "set() - converts a value to a set\n",
    "\n",
    "These functions are just a few examples of the many built-in functions available in Python. We can find the full list of built-in functions in the Python documentation.\n",
    "'''"
   ]
  },
  {
   "cell_type": "code",
   "execution_count": 21,
   "id": "bb44aef0-7d62-405d-8723-e44ce2682363",
   "metadata": {},
   "outputs": [],
   "source": [
    "# 12. What is the maximum possible length of an identifier in Python?"
   ]
  },
  {
   "cell_type": "code",
   "execution_count": null,
   "id": "ba53cc27-9f0d-44a7-a475-d2babc641cdd",
   "metadata": {},
   "outputs": [],
   "source": [
    "'''\n",
    "In Python, there is no explicit limit on the length of an identifier (such as a variable name, function name, class name, etc.). The only limit is the amount of memory \n",
    "available on your computer. However, it is generally a good practice to keep identifier names short and descriptive, as longer names can make your code harder to read \n",
    "and understand. Additionally, some tools and systems may have practical limits on the length of identifier names.\n",
    "'''"
   ]
  },
  {
   "cell_type": "code",
   "execution_count": 26,
   "id": "0b991ddd-8a79-4600-8eae-077bc819acb9",
   "metadata": {},
   "outputs": [],
   "source": [
    "# 13. What are the benefits of using Python?"
   ]
  },
  {
   "cell_type": "code",
   "execution_count": null,
   "id": "bb4be922-60df-4ae2-a950-785e6807b354",
   "metadata": {},
   "outputs": [],
   "source": [
    "'''\n",
    "There are many benefits to using Python as a programming language: \n",
    "\n",
    "1. Easy to learn: Python has a simple and straightforward syntax, making it easy for new programmers to learn and understand.\n",
    "2. Versatile: Python is a multi-paradigm programming language and can be used for a wide range of tasks, such as web developmen2.t, scientific computing, \n",
    "   data analysis, artificial intelligence, and more.\n",
    "3. Large community and support: Python has a large and active community of users and developers who contribute to the language and provide support to one another.\n",
    "   This community has created a wealth of libraries, tools, and resources that can be leveraged by Python users.\n",
    "4. Large Standard Library: Python has a large standard library that includes modules for many common programming tasks, such as connecting to the web, reading and\n",
    "   writing files, and working with data. This reduces the amount of code that you need to write and saves time.\n",
    "5. Cross-platform compatibility: Python code can run on a wide range of operating systems and platforms, including Windows, MacOS, Linux, and more.\n",
    "6. Dynamic Typing: In Python, you do not need to specify the type of a variable when you declare it. The type is automatically determined at runtime, making the code\n",
    "   more flexible and easier to write.\n",
    "7. High-level abstractions: Python provides high-level abstractions for many common programming tasks, such as working with files, networks, and databases. This \n",
    "   reduces the amount of code that you need to write and saves time.\n",
    "\n",
    "Overall, Python's ease of use, versatility, large community, and high-level abstractions make it a popular choice for many types of projects and a great language to learn\n",
    "for new programmers.\n",
    "'''"
   ]
  },
  {
   "cell_type": "code",
   "execution_count": 29,
   "id": "8dc4ae85-06c6-4f4c-a9e5-00fbe6efb489",
   "metadata": {},
   "outputs": [],
   "source": [
    "# 14. How is memory managend in Python?"
   ]
  },
  {
   "cell_type": "code",
   "execution_count": 30,
   "id": "c5c95982-7148-4dbc-ac15-cef37ef2fe43",
   "metadata": {},
   "outputs": [],
   "source": [
    "'''\n",
    "In Python, memory management is handled automatically by the Python interpreter using a memory manager. The memory manager manages the allocation of memory for Python\n",
    "objects and data structures, and automatically frees up memory that is no longer needed by the program.\n",
    "The memory manager uses a garbage collector to keep track of objects that are no longer in use by the program and reclaim their memory. The garbage collector uses a \n",
    "reference counting mechanism to determine which objects are no longer needed, and it frees up the memory used by these objects.\n",
    "In addition to the reference counting mechanism, the garbage collector also uses a cycle detector to find and reclaim memory used by objects that form circular references.\n",
    "Circular references occur when two or more objects refer to each other, and they can prevent the reference counting mechanism from freeing up the memory used by these objects.\n",
    "Overall, the memory management in Python is designed to be simple and efficient, allowing developers to focus on writing code, rather than worrying about memory management.\n",
    "However, it's important to keep in mind that Python is a dynamically-typed language, and it may consume more memory than statically-typed languages for large data sets.\n",
    "'''"
   ]
  },
  {
   "cell_type": "code",
   "execution_count": 28,
   "id": "bd68f5c0-1698-4a04-a8c0-9c91c2c0b842",
   "metadata": {},
   "outputs": [],
   "source": [
    "# 15. How to install Python on Windows and set path variables?"
   ]
  },
  {
   "cell_type": "code",
   "execution_count": null,
   "id": "9611f0c8-fbb4-4f0d-a9cc-b695de428c36",
   "metadata": {},
   "outputs": [],
   "source": [
    "'''\n",
    "Here are the steps to install Python on Windows and set the path variables:\n",
    "\n",
    "1. Download the Python installer: Go to the official Python website (https://www.python.org/) and download the latest version of Python for Windows.\n",
    "2. Run the installer: Double-click the downloaded file to run the installer, and follow the on-screen instructions to install Python. Make sure to check the option to \"Add Python to PATH\" during the installation process.\n",
    "3. Verify the installation: Open the Command Prompt and type \"python\" to verify that the installation was successful and that the Python executable is on your PATH.\n",
    "4. Set the path variables: If the \"Add Python to PATH\" option was not selected during the installation, you will need to set the path variables manually. To do this, follow these steps:\n",
    "\n",
    "Right-click on the Start button and select \"System\".\n",
    "Click on \"Advanced system settings\"\n",
    "Click on \"Environment Variables\"\n",
    "Under \"System Variables\", scroll down and find the \"Path\" variable, then click \"Edit\".\n",
    "Add the path to the Python executable to the \"Path\" variable (for example, \"C:\\PythonXX\").\n",
    "Verify the path variables: Open a new Command Prompt and type \"python\" to verify that the path variables have been set correctly and that you can run Python from the command line.\n",
    "These steps should help you install Python on Windows and set the path variables so that you can run Python from the command line.\n",
    "'''"
   ]
  },
  {
   "cell_type": "code",
   "execution_count": null,
   "id": "4633e07a-a6e5-462c-b5ce-65d49e734fcd",
   "metadata": {},
   "outputs": [],
   "source": [
    "# 16. Is Indentation requried in python?"
   ]
  },
  {
   "cell_type": "code",
   "execution_count": null,
   "id": "f8597fbb-d68b-4632-9577-48062c7635ba",
   "metadata": {},
   "outputs": [],
   "source": [
    "'''\n",
    "Yes, indentation is required in Python. Indentation is used to define the structure of the code, such as blocks of code within a function, loop, or conditional statement. \n",
    "In Python, indentation is used to indicate the scope of a block of code, and it helps to make the code more readable and maintainable.\n",
    "'''"
   ]
  }
 ],
 "metadata": {
  "kernelspec": {
   "display_name": "Python 3 (ipykernel)",
   "language": "python",
   "name": "python3"
  },
  "language_info": {
   "codemirror_mode": {
    "name": "ipython",
    "version": 3
   },
   "file_extension": ".py",
   "mimetype": "text/x-python",
   "name": "python",
   "nbconvert_exporter": "python",
   "pygments_lexer": "ipython3",
   "version": "3.10.8"
  }
 },
 "nbformat": 4,
 "nbformat_minor": 5
}
