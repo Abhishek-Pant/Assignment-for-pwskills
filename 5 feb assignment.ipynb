{
 "cells": [
  {
   "cell_type": "code",
   "execution_count": 5,
   "id": "1f586536-114f-418f-b8e6-430a0135e27b",
   "metadata": {},
   "outputs": [],
   "source": [
    "# 1. Explain Class and Object with respect to Object-Oriented Programming. Give a suitable example."
   ]
  },
  {
   "cell_type": "code",
   "execution_count": 11,
   "id": "36a9eef1-9ad3-4c6a-8465-c437c3ab4a17",
   "metadata": {},
   "outputs": [
    {
     "data": {
      "text/plain": [
       "('bmw', 1999, 2929)"
      ]
     },
     "execution_count": 11,
     "metadata": {},
     "output_type": "execute_result"
    }
   ],
   "source": [
    "'''\n",
    "Classes and objects are fundamental concepts in Object-Oriented Programming (OOP).\n",
    "A class is a blueprint or a template that defines the properties and behaviors of an object. It is like a blueprint of a building, specifying the structure and design, but not \n",
    "the actual building itself.\n",
    "An object, on the other hand, is an instance of a class. It is the actual representation of a real-world entity that has its own state (properties) and behavior (methods). An \n",
    "object is created from a class and it inherits the properties and behaviors defined in the class.\n",
    "'''\n",
    "class car:\n",
    "    def __init__(self, brand, year, model_no):\n",
    "        self.brand = brand\n",
    "        self.year =  year\n",
    "        self.model_no = model_no\n",
    "    \n",
    "    def return_car_details(self):\n",
    "        return self. brand,self.year,self. model_no\n",
    "\n",
    "a = car('bmw', 1999, 2929)\n",
    "a.return_car_details()"
   ]
  },
  {
   "cell_type": "code",
   "execution_count": 6,
   "id": "679ea5d0-3ebf-4634-be2e-4da110d68cd4",
   "metadata": {},
   "outputs": [],
   "source": [
    "# 2. Name the four pillars of OOPs."
   ]
  },
  {
   "cell_type": "code",
   "execution_count": null,
   "id": "1a3cd7b0-d95e-40c1-8ec2-fa79d545efd1",
   "metadata": {},
   "outputs": [],
   "source": [
    "'''\n",
    "The four pillars of Object-Oriented Programming (OOP) are:\n",
    "\n",
    "1. Abstraction: The process of hiding implementation details from the user and exposing only the necessary information. This allows the user to interact with objects without \n",
    "having to understand the underlying complexity.\n",
    "2. Encapsulation: The concept of wrapping data and behavior (methods) into a single unit called an object. This ensures data and behavior are protected from outside interference,\n",
    "and only accessible through defined interfaces.\n",
    "3. Inheritance: The process of creating a new class based on an existing class. The new class inherits all the properties and behaviors of the existing class, and can add new \n",
    "properties or override existing ones.\n",
    "4 .Polymorphism: The ability of an object to take on multiple forms. This allows objects of different classes to be treated as objects of the same class, leading to a more flexible\n",
    "and reusable codebase.\n",
    "'''"
   ]
  },
  {
   "cell_type": "code",
   "execution_count": 7,
   "id": "3872152b-1736-4e38-80cf-3e6d02462312",
   "metadata": {},
   "outputs": [],
   "source": [
    "# 3. Explain why the __init__() function is used. Give a suitable example."
   ]
  },
  {
   "cell_type": "code",
   "execution_count": 13,
   "id": "e3f55af6-615a-431a-b938-8a6a1bc1b217",
   "metadata": {},
   "outputs": [
    {
     "name": "stdout",
     "output_type": "stream",
     "text": [
      "Abhishek\n",
      "22\n"
     ]
    }
   ],
   "source": [
    "'''\n",
    "The __init__ function, also known as the constructor, is used in Python to initialize the attributes of an object when it is created. It is automatically called when an object \n",
    "is created from a class and it allows you to set the initial state of the object.\n",
    "For example, consider a class Person with properties name and age. When an object of the Person class is created, the __init__ function can be used to set the name and age of \n",
    "the person\n",
    "'''\n",
    "class Person:\n",
    "    def __init__(self, name, age):\n",
    "        self.name = name\n",
    "        self.age = age\n",
    "\n",
    "person = Person(\"Abhishek\", 22)\n",
    "print(person.name)\n",
    "print(person.age)"
   ]
  },
  {
   "cell_type": "code",
   "execution_count": 8,
   "id": "54e54a76-ee45-4a42-ab47-eaed41cbb99a",
   "metadata": {},
   "outputs": [],
   "source": [
    "# 4. Why self is used in OOPs?"
   ]
  },
  {
   "cell_type": "code",
   "execution_count": null,
   "id": "23d6e9c1-d8d3-46da-a6d6-36f7c3d58e93",
   "metadata": {},
   "outputs": [],
   "source": [
    "'''\n",
    "'self' is used in Object-Oriented Programming (OOP) as a reference to the instance of the object that is calling a method. It is a convention in Python (and other OOP languages) \n",
    "to use self as the first parameter in methods defined within a class.\n",
    "The self argument is used to access and modify the attributes of the object from within the class. It allows you to maintain the state of an object and define behavior that \n",
    "operates on that state.\n",
    "'''"
   ]
  },
  {
   "cell_type": "code",
   "execution_count": 9,
   "id": "12d9062c-e16a-47db-9877-5e31c7f3ec9e",
   "metadata": {},
   "outputs": [],
   "source": [
    "# 5. What is inheritance? Give an example for each type of inheritance."
   ]
  },
  {
   "cell_type": "code",
   "execution_count": null,
   "id": "d9d89902-7c27-4859-9e68-a5f85216ca16",
   "metadata": {},
   "outputs": [],
   "source": [
    "'''\n",
    "Inheritance is a fundamental concept in Object-Oriented Programming (OOP) that allows you to create a new class based on an existing class. The new class, known as the subclass\n",
    "or derived class, inherits all the attributes and behaviors of the existing class, known as the superclass or base class. This allows you to reuse, extend, and modify existing code.\n",
    "\n",
    "In Python, there are several types of inheritance:\n",
    "\n",
    "1. Single inheritance: In single inheritance, a subclass inherits attributes and methods from a single superclass.\n",
    "2. Multiple inheritance: In multiple inheritance, a subclass inherits attributes and methods from multiple superclasses.\n",
    "3. Multi-level inheritance: In multi-level inheritance, a subclass inherits from a subclass, which in turn inherits from a superclass.\n",
    "4. Hierarchical inheritance: In hierarchical inheritance, a single superclass is inherited by multiple subclasses.\n",
    "5. Hybrid inheritance: Hybrid inheritance is a combination of multiple inheritance types, such as single inheritance and multiple inheritance.\n",
    "'''"
   ]
  },
  {
   "cell_type": "code",
   "execution_count": null,
   "id": "cbf98a05-b4e6-47be-82e2-7e43a6858899",
   "metadata": {},
   "outputs": [],
   "source": []
  }
 ],
 "metadata": {
  "kernelspec": {
   "display_name": "Python 3 (ipykernel)",
   "language": "python",
   "name": "python3"
  },
  "language_info": {
   "codemirror_mode": {
    "name": "ipython",
    "version": 3
   },
   "file_extension": ".py",
   "mimetype": "text/x-python",
   "name": "python",
   "nbconvert_exporter": "python",
   "pygments_lexer": "ipython3",
   "version": "3.10.8"
  }
 },
 "nbformat": 4,
 "nbformat_minor": 5
}
