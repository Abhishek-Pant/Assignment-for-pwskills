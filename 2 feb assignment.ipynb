{
 "cells": [
  {
   "cell_type": "code",
   "execution_count": 23,
   "id": "6f7f3a08-1bd9-41b6-b91f-548a8cf7b15d",
   "metadata": {},
   "outputs": [],
   "source": [
    "# 1. Explain with an example each when to use a for loop and a while loop."
   ]
  },
  {
   "cell_type": "code",
   "execution_count": null,
   "id": "0392abf1-8838-4c05-8ce9-a674873fffd9",
   "metadata": {},
   "outputs": [],
   "source": [
    "# A for loop is used to iterate over a sequence of elements, such as a list, string, or range of numbers, and execute a block of code for each element in the sequence. For example:\n",
    "fruits = ['apple', 'banana', 'cherry']\n",
    "for fruit in fruits:\n",
    "    print(fruit)"
   ]
  },
  {
   "cell_type": "code",
   "execution_count": null,
   "id": "0f165db4-6015-48e1-bf55-425f95cc14fb",
   "metadata": {},
   "outputs": [],
   "source": [
    "# A while loop is used to execute a block of code repeatedly as long as a condition is True. For example:\n",
    "count = 0\n",
    "while count < 5:\n",
    "    print(count)\n",
    "    count += 1"
   ]
  },
  {
   "cell_type": "code",
   "execution_count": null,
   "id": "300b976e-8457-41e8-94d6-c3f678f2085f",
   "metadata": {},
   "outputs": [],
   "source": [
    "# 2. Write a python prgram to print the sum and product of first 10 natural numbers using fro and while loop"
   ]
  },
  {
   "cell_type": "code",
   "execution_count": 1,
   "id": "1e24bf48-2bf2-4598-93cb-a91a3999dabb",
   "metadata": {},
   "outputs": [
    {
     "name": "stdout",
     "output_type": "stream",
     "text": [
      "55\n",
      "3628800\n"
     ]
    }
   ],
   "source": [
    "# using for loop\n",
    "sum = 0\n",
    "product = 1\n",
    "for i in range(1,11):\n",
    "    sum += i\n",
    "    product *=i\n",
    "print(sum)\n",
    "print(product)"
   ]
  },
  {
   "cell_type": "code",
   "execution_count": 2,
   "id": "1651284a-35fe-4dba-9def-46b3516b205d",
   "metadata": {},
   "outputs": [
    {
     "name": "stdout",
     "output_type": "stream",
     "text": [
      "55\n",
      "3628800\n"
     ]
    }
   ],
   "source": [
    "# using while loop\n",
    "sum = 0\n",
    "i = 1\n",
    "product = 1\n",
    "while i<11:\n",
    "    sum += i\n",
    "    product *= i\n",
    "    i += 1\n",
    "    \n",
    "print(sum)\n",
    "print(product)"
   ]
  },
  {
   "cell_type": "code",
   "execution_count": 4,
   "id": "613607ec-d74e-4eb1-a832-7633b6dcaf4b",
   "metadata": {},
   "outputs": [],
   "source": [
    "# 3. Create a python program to compute the electricity bill for a house hold. The per-unit charges in rupees are as follows: For the first 100 units, the user will be charged Rs. 4.5 \n",
    "# Sper unit and for the next 100 units, the user will be charged Rs 6 pers unit, and for the next 100 units the user will be charged Rs 10 per unit, After 300 units and abouve the user \n",
    "# will be charge Rs. 20 pers unit"
   ]
  },
  {
   "cell_type": "code",
   "execution_count": 12,
   "id": "0baee71d-1ab5-4def-977d-fd23d573b194",
   "metadata": {},
   "outputs": [
    {
     "name": "stdout",
     "output_type": "stream",
     "text": [
      "Enter the units of electricity used : \n"
     ]
    },
    {
     "name": "stdin",
     "output_type": "stream",
     "text": [
      "None 310\n"
     ]
    },
    {
     "name": "stdout",
     "output_type": "stream",
     "text": [
      "2250.0\n"
     ]
    }
   ],
   "source": [
    "units = int(input(print('Enter the units of electricity used : ')))\n",
    "electricity_bill = 0\n",
    "if units < 101:\n",
    "    electricity_bill = 4.5 * units\n",
    "elif units < 201 and units > 100:\n",
    "    electricity_bill = 4.5 * 100 + (units-100) * 6\n",
    "elif units < 301 and units > 200:\n",
    "    electircity_bill = 4.5 * 100 + 6 * 100 + (units-200) * 10\n",
    "else:\n",
    "    electricity_bill = 4.5 * 100 + 6 * 100 + 100 * 10 + (units-300) * 20\n",
    "\n",
    "print(electricity_bill)"
   ]
  },
  {
   "cell_type": "code",
   "execution_count": 13,
   "id": "73254851-6ae1-43f2-9813-03c9867cfc91",
   "metadata": {},
   "outputs": [],
   "source": [
    "# 4. Create a list of numbers form 1 to 100. Use for loop and while loop to calculate the cube of each number and if the cube of that number is divisible by 4 or 5 then append that \n",
    "# number in a list and print that list."
   ]
  },
  {
   "cell_type": "code",
   "execution_count": 17,
   "id": "22317ef7-ebfd-4fbf-a962-6b6603752b98",
   "metadata": {},
   "outputs": [
    {
     "data": {
      "text/plain": [
       "[1000, 8000, 27000, 64000, 125000, 216000, 343000, 512000, 729000, 1000000]"
      ]
     },
     "execution_count": 17,
     "metadata": {},
     "output_type": "execute_result"
    }
   ],
   "source": [
    "l =[]\n",
    "for i in range(1,101):\n",
    "    l.append(i)\n",
    "anslist = []\n",
    "for i in range(1,101):\n",
    "    cube = i*i*i\n",
    "    if cube % 4 == 0 and cube % 5 == 0:\n",
    "        anslist.append(cube)\n",
    "anslist"
   ]
  },
  {
   "cell_type": "code",
   "execution_count": 18,
   "id": "e5a6db93-185b-47b7-adc0-7f65d34e0671",
   "metadata": {},
   "outputs": [],
   "source": [
    "# 5. Write a program to filter count vowels in the below-given string.\n",
    "# string = \"I want to become a data scientist\""
   ]
  },
  {
   "cell_type": "code",
   "execution_count": 22,
   "id": "d4b7768f-af7d-4e62-967f-382ccef493e3",
   "metadata": {},
   "outputs": [
    {
     "name": "stdout",
     "output_type": "stream",
     "text": [
      "12\n"
     ]
    }
   ],
   "source": [
    "s = 'I want to become a data scientist'\n",
    "l = ['a', 'e', 'i', 'o', 'u']\n",
    "count = 0\n",
    "for i in s:\n",
    "    if i.lower() in l:\n",
    "        count += 1\n",
    "\n",
    "print(count)"
   ]
  },
  {
   "cell_type": "code",
   "execution_count": null,
   "id": "bd25f4f1-3339-4da4-88f5-f0099ad7cad8",
   "metadata": {},
   "outputs": [],
   "source": []
  }
 ],
 "metadata": {
  "kernelspec": {
   "display_name": "Python 3 (ipykernel)",
   "language": "python",
   "name": "python3"
  },
  "language_info": {
   "codemirror_mode": {
    "name": "ipython",
    "version": 3
   },
   "file_extension": ".py",
   "mimetype": "text/x-python",
   "name": "python",
   "nbconvert_exporter": "python",
   "pygments_lexer": "ipython3",
   "version": "3.10.8"
  }
 },
 "nbformat": 4,
 "nbformat_minor": 5
}
