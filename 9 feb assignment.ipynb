{
 "cells": [
  {
   "cell_type": "code",
   "execution_count": 6,
   "id": "f464a9ef-42e0-45e6-84fc-90f73d217ebc",
   "metadata": {},
   "outputs": [],
   "source": [
    "# 1. Create a vehicle class with an init method having instance variables as name_of_vehicle,max_speed and average_of_vehicle."
   ]
  },
  {
   "cell_type": "code",
   "execution_count": 37,
   "id": "5ad22327-c677-4d1d-b6b1-3673e9bc773f",
   "metadata": {},
   "outputs": [],
   "source": [
    "class vehicle:\n",
    "    \n",
    "    def __init__(self, name_of_vehicle, max_speed, average_of_vehicle):\n",
    "        self.name_of_vehicle = name_of_vehicle\n",
    "        self.max_speed = max_speed\n",
    "        self.average_of_vehicle = average_of_vehicle"
   ]
  },
  {
   "cell_type": "code",
   "execution_count": 38,
   "id": "e050f903-bc56-4b39-98cb-93d409f08bd1",
   "metadata": {},
   "outputs": [],
   "source": [
    "v = vehicle('bmw','280','30')"
   ]
  },
  {
   "cell_type": "code",
   "execution_count": 39,
   "id": "3de1cf43-793b-4ca6-b78e-de07ca41d143",
   "metadata": {},
   "outputs": [
    {
     "data": {
      "text/plain": [
       "'bmw'"
      ]
     },
     "execution_count": 39,
     "metadata": {},
     "output_type": "execute_result"
    }
   ],
   "source": [
    "v.name_of_vehicle"
   ]
  },
  {
   "cell_type": "code",
   "execution_count": 40,
   "id": "93613506-9242-4395-916e-09734294f77a",
   "metadata": {},
   "outputs": [
    {
     "data": {
      "text/plain": [
       "'280'"
      ]
     },
     "execution_count": 40,
     "metadata": {},
     "output_type": "execute_result"
    }
   ],
   "source": [
    "v.max_speed"
   ]
  },
  {
   "cell_type": "code",
   "execution_count": 41,
   "id": "e4b08b97-a334-4eb7-9110-42a3c9628898",
   "metadata": {},
   "outputs": [
    {
     "data": {
      "text/plain": [
       "'30'"
      ]
     },
     "execution_count": 41,
     "metadata": {},
     "output_type": "execute_result"
    }
   ],
   "source": [
    "v.average_of_vehicle"
   ]
  },
  {
   "cell_type": "code",
   "execution_count": 7,
   "id": "5cca98d1-de2f-4fde-9a14-a1716c2883b5",
   "metadata": {},
   "outputs": [],
   "source": [
    "# 2. Create a child class car from the vehicle class created in Que 1 , which will inherit the vechicle class. Create a method named seating_capacity which takes capacity as argument \n",
    "# and returns the name of the vehicle and its seating capacity."
   ]
  },
  {
   "cell_type": "code",
   "execution_count": 44,
   "id": "a4853555-e589-4be3-9a54-df71ccc8700a",
   "metadata": {},
   "outputs": [
    {
     "data": {
      "text/plain": [
       "['bmw', 4]"
      ]
     },
     "execution_count": 44,
     "metadata": {},
     "output_type": "execute_result"
    }
   ],
   "source": [
    "class vehicle:\n",
    "    \n",
    "    def __init__(self, name_of_vehicle, max_speed, average_of_vehicle):\n",
    "        self.name_of_vehicle = name_of_vehicle\n",
    "        self.max_speed = max_speed\n",
    "        self.average_of_vehicle = average_of_vehicle\n",
    "    \n",
    "class car(vehicle):\n",
    "    \n",
    "    def seating_capacity(self,capacity):\n",
    "        l =[ self.name_of_vehicle,capacity]\n",
    "        return l\n",
    "\n",
    "c = car('bmw','280','30') # car class does not have default constructor so the values will pass to its parent i.e vehicle\n",
    "c.seating_capacity(4)"
   ]
  },
  {
   "cell_type": "code",
   "execution_count": 8,
   "id": "3aa1e289-be82-4c99-a1b6-0517aef0d0d9",
   "metadata": {},
   "outputs": [],
   "source": [
    "# 3. What is multiple inheritance? Write a python code to demostrate multiple inheritance."
   ]
  },
  {
   "cell_type": "code",
   "execution_count": null,
   "id": "4375bf59-94cc-4ee5-aef4-65be83222955",
   "metadata": {},
   "outputs": [],
   "source": [
    "'''\n",
    "Multiple inheritance is a feature of some object-oriented computer programming languages in which an object or class can inherit features from more than one parent object \n",
    "or parent class. It is distinct from single inheritance, where an object or class may only inherit from one particular object or class.\n",
    "'''\n",
    "class product:\n",
    "    def review(self):\n",
    "        print('product custormer review')\n",
    "\n",
    "class phone():\n",
    "    def __init__(self,price,brand,camera):\n",
    "        print('inside phone consturcter')\n",
    "        self.price = price\n",
    "        self.brand = brand\n",
    "        self.camera = camera\n",
    "        \n",
    "    def buy(self):\n",
    "        print('buying a phone')\n",
    "\n",
    "class smartphone(phone,product):# order matters\n",
    "    pass\n",
    "\n",
    "s = smartphone(20000,'mi',64)\n",
    "s.buy()\n",
    "s.review()"
   ]
  },
  {
   "cell_type": "code",
   "execution_count": 9,
   "id": "4fe1ce72-638d-4fd6-8728-afd8ec029bcd",
   "metadata": {},
   "outputs": [],
   "source": [
    "# 4. What are getter and setter in python? Create a class and create a getter and a setter method in this class. "
   ]
  },
  {
   "cell_type": "code",
   "execution_count": 48,
   "id": "69e2d90c-d6ed-4bb2-b408-3d5ee902e057",
   "metadata": {},
   "outputs": [
    {
     "name": "stdout",
     "output_type": "stream",
     "text": [
      "140689085258128\n"
     ]
    },
    {
     "name": "stdin",
     "output_type": "stream",
     "text": [
      "\n",
      "        Hi how can I help you?\n",
      "        1. Press 1 to create pin\n",
      "        2. Press 2 to change pin \n",
      "        3. Press 3 to check balance\n",
      "        4. Press 4 to withdraw\n",
      "        5. Anything else to exit\n",
      "         1\n",
      "enter your pin:  1234\n",
      "enter your balance:  10000\n"
     ]
    },
    {
     "name": "stdout",
     "output_type": "stream",
     "text": [
      "pin created successfully\n"
     ]
    },
    {
     "name": "stdin",
     "output_type": "stream",
     "text": [
      "\n",
      "        Hi how can I help you?\n",
      "        1. Press 1 to create pin\n",
      "        2. Press 2 to change pin \n",
      "        3. Press 3 to check balance\n",
      "        4. Press 4 to withdraw\n",
      "        5. Anything else to exit\n",
      "         2\n",
      "enter old pin:  1234\n",
      "enter new pin:  12345\n"
     ]
    },
    {
     "name": "stdout",
     "output_type": "stream",
     "text": [
      "pin change sucessfully\n"
     ]
    },
    {
     "name": "stdin",
     "output_type": "stream",
     "text": [
      "\n",
      "        Hi how can I help you?\n",
      "        1. Press 1 to create pin\n",
      "        2. Press 2 to change pin \n",
      "        3. Press 3 to check balance\n",
      "        4. Press 4 to withdraw\n",
      "        5. Anything else to exit\n",
      "         3\n",
      "enter your pin:  1234\n"
     ]
    },
    {
     "name": "stdout",
     "output_type": "stream",
     "text": [
      "wrong pin enter\n"
     ]
    },
    {
     "name": "stdin",
     "output_type": "stream",
     "text": [
      "\n",
      "        Hi how can I help you?\n",
      "        1. Press 1 to create pin\n",
      "        2. Press 2 to change pin \n",
      "        3. Press 3 to check balance\n",
      "        4. Press 4 to withdraw\n",
      "        5. Anything else to exit\n",
      "         3\n",
      "enter your pin:  12345\n"
     ]
    },
    {
     "name": "stdout",
     "output_type": "stream",
     "text": [
      "your balance is :  10000\n"
     ]
    },
    {
     "name": "stdin",
     "output_type": "stream",
     "text": [
      "\n",
      "        Hi how can I help you?\n",
      "        1. Press 1 to create pin\n",
      "        2. Press 2 to change pin \n",
      "        3. Press 3 to check balance\n",
      "        4. Press 4 to withdraw\n",
      "        5. Anything else to exit\n",
      "         4\n",
      "enter your pin:  1234\n"
     ]
    },
    {
     "name": "stdout",
     "output_type": "stream",
     "text": [
      "wrong pin enter\n"
     ]
    },
    {
     "name": "stdin",
     "output_type": "stream",
     "text": [
      "\n",
      "        Hi how can I help you?\n",
      "        1. Press 1 to create pin\n",
      "        2. Press 2 to change pin \n",
      "        3. Press 3 to check balance\n",
      "        4. Press 4 to withdraw\n",
      "        5. Anything else to exit\n",
      "         4\n",
      "enter your pin:  12345\n",
      "enter the amount:  5000\n"
     ]
    },
    {
     "name": "stdout",
     "output_type": "stream",
     "text": [
      "withdrawn succefully\n"
     ]
    },
    {
     "name": "stdin",
     "output_type": "stream",
     "text": [
      "\n",
      "        Hi how can I help you?\n",
      "        1. Press 1 to create pin\n",
      "        2. Press 2 to change pin \n",
      "        3. Press 3 to check balance\n",
      "        4. Press 4 to withdraw\n",
      "        5. Anything else to exit\n",
      "         5\n"
     ]
    }
   ],
   "source": [
    "'''\n",
    "Getters: These are the methods used in Object-Oriented Programming (OOPS) which helps to access the private attributes from a class.\n",
    "Setters: These are the methods used in OOPS feature which helps to set the value to private attributes in a class.\n",
    "'''\n",
    "\n",
    "class Atm:\n",
    "\n",
    "    def __init__(self): \n",
    "        print(id(self))\n",
    "        self.pin = ''\n",
    "        self.__balance = 0\n",
    "        self.menu()\n",
    "        \n",
    "        \n",
    "    def menu(self):\n",
    "        user_input = input('''\n",
    "        Hi how can I help you?\n",
    "        1. Press 1 to create pin\n",
    "        2. Press 2 to change pin \n",
    "        3. Press 3 to check balance\n",
    "        4. Press 4 to withdraw\n",
    "        5. Anything else to exit\n",
    "        ''')\n",
    "        if user_input == '1':\n",
    "            self.create_pin()\n",
    "        elif user_input == '2':\n",
    "            self.change_pin()\n",
    "        elif user_input == '3':\n",
    "            self.check_balance()\n",
    "        elif user_input == '4':\n",
    "            self.withdraw()\n",
    "        else:\n",
    "            pass\n",
    "    \n",
    "    # setter\n",
    "    def set_balance(self,new_value):\n",
    "        if type(new_value) == [int, float]:\n",
    "            self.balance = new_value\n",
    "        else:\n",
    "            print('worong balance type')\n",
    "            \n",
    "    def create_pin(self):\n",
    "        user_pin = input('enter your pin: ')\n",
    "        self.pin = user_pin\n",
    "        \n",
    "        user_balance = int(input('enter your balance: '))\n",
    "        self.__balance = user_balance\n",
    "                        \n",
    "        print('pin created successfully')\n",
    "        self.menu()\n",
    "                           \n",
    "                           \n",
    "                           \n",
    "    def change_pin(self):\n",
    "        old_pin = input('enter old pin: ')\n",
    "        if old_pin == self.pin:\n",
    "            new_pin = input('enter new pin: ')\n",
    "            self.pin = new_pin\n",
    "            print('pin change sucessfully')\n",
    "        else:\n",
    "            print('you enter wrong pin')\n",
    "        self.menu()\n",
    "                           \n",
    "    # getter                     \n",
    "    def check_balance(self):\n",
    "        user_pin = input('enter your pin: ')\n",
    "        if user_pin == self.pin:\n",
    "            print('your balance is : ',self.__balance)\n",
    "        else:\n",
    "            print('wrong pin enter')\n",
    "        self.menu()\n",
    "                           \n",
    "                           \n",
    "    def withdraw(self):\n",
    "        user_pin = input('enter your pin: ')\n",
    "        if user_pin == self.pin:\n",
    "            amount = int(input('enter the amount: '))\n",
    "            if amount <= self.__balance:\n",
    "                self.__balance -= amount\n",
    "                print('withdrawn succefully')\n",
    "            else:\n",
    "                print('insufficient amount')\n",
    "        else:\n",
    "            print('wrong pin enter')\n",
    "        self.menu()\n",
    "        \n",
    "obj1 = Atm()"
   ]
  },
  {
   "cell_type": "code",
   "execution_count": 10,
   "id": "77dfcf3a-7f83-4e0b-b5b8-c32e98b0c16d",
   "metadata": {},
   "outputs": [],
   "source": [
    "# 5. What is method overriding in python? Write a python code to demostrate method overriding."
   ]
  },
  {
   "cell_type": "code",
   "execution_count": 45,
   "id": "2bb81cfb-51d1-42e6-a569-a109ceea2004",
   "metadata": {},
   "outputs": [
    {
     "name": "stdout",
     "output_type": "stream",
     "text": [
      "connected to database\n"
     ]
    }
   ],
   "source": [
    "'''\n",
    "Method overriding is a feature of object-oriented programming languages where the subclass or child class can provide the program with specific\n",
    "characteristics or a specific implementation process of data provided that are already defined in the parent class or superclass.\n",
    "\n",
    "When the same returns, parameters, or name is input in the subclass as in the parent class, then the method of implementation in the subclass \n",
    "overrides the method as mentioned in the parent class. This is known as method overriding.\n",
    "'''\n",
    "from abc import ABC,abstractmethod\n",
    "class BankApp(ABC):\n",
    "    \n",
    "    def database(self):\n",
    "        print('connected to database')\n",
    "    \n",
    "    @abstractmethod\n",
    "    def security(self):\n",
    "        pass\n",
    "    @abstractmethod\n",
    "    def display(self):\n",
    "        pass\n",
    "\n",
    "class MobileApp(BankApp):\n",
    "    \n",
    "    def mobile_login(self):\n",
    "        print('login into mobile')\n",
    "    \n",
    "    def security(self):\n",
    "        print('mobile security')\n",
    "        \n",
    "    def display(self):\n",
    "        print('mobile app is display')\n",
    "        \n",
    "m = MobileApp()\n",
    "m.database()"
   ]
  },
  {
   "cell_type": "code",
   "execution_count": null,
   "id": "0dbda54b-f5a0-44ab-8761-a5271e97fe80",
   "metadata": {},
   "outputs": [],
   "source": []
  }
 ],
 "metadata": {
  "kernelspec": {
   "display_name": "Python 3 (ipykernel)",
   "language": "python",
   "name": "python3"
  },
  "language_info": {
   "codemirror_mode": {
    "name": "ipython",
    "version": 3
   },
   "file_extension": ".py",
   "mimetype": "text/x-python",
   "name": "python",
   "nbconvert_exporter": "python",
   "pygments_lexer": "ipython3",
   "version": "3.10.8"
  }
 },
 "nbformat": 4,
 "nbformat_minor": 5
}
