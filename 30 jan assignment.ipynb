{
 "cells": [
  {
   "cell_type": "code",
   "execution_count": 1,
   "id": "25866e59-be4a-4948-8621-d26bc0efdad7",
   "metadata": {},
   "outputs": [],
   "source": [
    "# 1. Write a program to accept percentage from the user and display the grade "
   ]
  },
  {
   "cell_type": "code",
   "execution_count": 4,
   "id": "3084a0c3-5a67-4e29-8903-441801a2083b",
   "metadata": {},
   "outputs": [
    {
     "name": "stdout",
     "output_type": "stream",
     "text": [
      "Enter the grade : \n"
     ]
    },
    {
     "name": "stdin",
     "output_type": "stream",
     "text": [
      "None 55\n"
     ]
    },
    {
     "name": "stdout",
     "output_type": "stream",
     "text": [
      "D\n"
     ]
    }
   ],
   "source": [
    "grade = int(input(print('Enter the grade : ')))\n",
    "if grade > 90:\n",
    "    print('A')\n",
    "elif grade > 80 and grade <= 90:\n",
    "    print('B')\n",
    "elif grade >= 60 and grade <= 80:\n",
    "    print('C')\n",
    "else:\n",
    "    print('D')"
   ]
  },
  {
   "cell_type": "code",
   "execution_count": 5,
   "id": "1eb74ec1-0d30-40f8-8c25-7abd68b04f49",
   "metadata": {},
   "outputs": [],
   "source": [
    "# 2. Write a program to accept the cost price of a bike and display the road tax to be paid."
   ]
  },
  {
   "cell_type": "code",
   "execution_count": 7,
   "id": "8ef21ba6-9aa1-4435-a5b6-552d81361fb9",
   "metadata": {},
   "outputs": [
    {
     "name": "stdout",
     "output_type": "stream",
     "text": [
      "Enter the cost : \n"
     ]
    },
    {
     "name": "stdin",
     "output_type": "stream",
     "text": [
      "None 24141\n"
     ]
    },
    {
     "name": "stdout",
     "output_type": "stream",
     "text": [
      "5%\n"
     ]
    }
   ],
   "source": [
    "cost_of_bike = int(input(print('Enter the cost : ')))\n",
    "if cost_of_bike > 100000:\n",
    "    print('15%')\n",
    "elif cost_of_bike >50000 and cost_of_bike <= 100000:\n",
    "    print('10%')\n",
    "else:\n",
    "    print('5%')"
   ]
  },
  {
   "cell_type": "code",
   "execution_count": 8,
   "id": "422f05aa-a29b-422e-8285-88bdd373d17b",
   "metadata": {},
   "outputs": [],
   "source": [
    "# 3. Accept any city from the user and display monuments of that city."
   ]
  },
  {
   "cell_type": "code",
   "execution_count": 10,
   "id": "9bbeb12f-1b8a-4f4b-b43d-0809ee633786",
   "metadata": {},
   "outputs": [
    {
     "name": "stdout",
     "output_type": "stream",
     "text": [
      "Enter the city : \n"
     ]
    },
    {
     "name": "stdin",
     "output_type": "stream",
     "text": [
      "None Agra\n"
     ]
    },
    {
     "name": "stdout",
     "output_type": "stream",
     "text": [
      "Taj Mahal\n"
     ]
    }
   ],
   "source": [
    "city = input(print('Enter the city : '))\n",
    "if city == 'Delhi':\n",
    "    print('Red Fort')\n",
    "elif city == 'Agra':\n",
    "    print('Taj Mahal')\n",
    "elif city == 'Jaiput':\n",
    "    print('Jal Mahal')"
   ]
  },
  {
   "cell_type": "code",
   "execution_count": 11,
   "id": "c90f159f-9f0f-4415-9238-a776b914dfb1",
   "metadata": {},
   "outputs": [],
   "source": [
    "# 4. Check how many times a given number can be divided by 3 before it is less that or equal to 10."
   ]
  },
  {
   "cell_type": "code",
   "execution_count": 12,
   "id": "4eb0b248-25d8-4899-80c9-9017096cde45",
   "metadata": {},
   "outputs": [
    {
     "name": "stdout",
     "output_type": "stream",
     "text": [
      "Enter the number : \n"
     ]
    },
    {
     "name": "stdin",
     "output_type": "stream",
     "text": [
      "None 434\n"
     ]
    },
    {
     "name": "stdout",
     "output_type": "stream",
     "text": [
      "4\n"
     ]
    }
   ],
   "source": [
    "num = int(input(print('Enter the number : ')))\n",
    "count = 0\n",
    "while num>10:\n",
    "    count += 1;\n",
    "    num /= 3\n",
    "print(count)"
   ]
  },
  {
   "cell_type": "code",
   "execution_count": 13,
   "id": "e6f7a1e9-a74b-49ee-96f9-b36c8b2220b9",
   "metadata": {},
   "outputs": [],
   "source": [
    "# 5. Why ad When to Use while Loop in Python give a detailed description with example."
   ]
  },
  {
   "cell_type": "code",
   "execution_count": null,
   "id": "a575a9e0-20d9-4e32-83e3-daa7a1618f76",
   "metadata": {},
   "outputs": [],
   "source": [
    "'''\n",
    "The while loop in Python is used to repeatedly execute a block of code as long as a given condition is true. The while loop in Python is used to repeatedly execute a block \n",
    "of code as long as a given condition is true. It's important to be careful when using while loops, as it's possible to create an infinite loop if the condition never becomes\n",
    "false. To avoid this, you should ensure that the condition will eventually become false, or add a break statement within the loop to exit the loop under certain conditions.\n",
    "In general, you should use a while loop when you want to repeat a block of code as long as a certain condition is true. This can be useful when you want to perform an action\n",
    "until a certain condition is met, such as reading data from a file until you reach the end of the file.\n",
    "'''"
   ]
  },
  {
   "cell_type": "code",
   "execution_count": 14,
   "id": "29bca4ff-27fa-4f62-a881-019fadac6254",
   "metadata": {},
   "outputs": [],
   "source": [
    "# 6. Use nested while loop to print 3 different pattern."
   ]
  },
  {
   "cell_type": "code",
   "execution_count": 22,
   "id": "5ec37ae5-7791-4f63-bac1-ccc03da4e065",
   "metadata": {},
   "outputs": [
    {
     "name": "stdout",
     "output_type": "stream",
     "text": [
      "*\n",
      "**\n",
      "***\n",
      "****\n",
      "*****\n",
      "******\n",
      "*******\n"
     ]
    }
   ],
   "source": [
    "# 1. Printing a Right Triangle:\n",
    "rows = 7\n",
    "i = 1\n",
    "while i <= rows:\n",
    "    j = 1\n",
    "    while j <= i:\n",
    "        print(\"*\", end=\"\")\n",
    "        j += 1\n",
    "    print()\n",
    "    i += 1"
   ]
  },
  {
   "cell_type": "code",
   "execution_count": 20,
   "id": "86df101d-0e7e-4108-93c5-0af00be7da25",
   "metadata": {},
   "outputs": [
    {
     "name": "stdout",
     "output_type": "stream",
     "text": [
      "* * * * * \n",
      " * * * * \n",
      "  * * * \n",
      "   * * \n",
      "    * \n"
     ]
    }
   ],
   "source": [
    "# Printing an Inverted Pyramid:\n",
    "rows = 5\n",
    "for i in range(rows, 0, -1):\n",
    "    for j in range(rows-i):\n",
    "        print(end=\" \")\n",
    "    for k in range(i):\n",
    "        print(\"*\", end=\" \")\n",
    "    print()"
   ]
  },
  {
   "cell_type": "code",
   "execution_count": 21,
   "id": "a6bee935-06f0-40f0-81ca-db172dd6c639",
   "metadata": {},
   "outputs": [
    {
     "name": "stdout",
     "output_type": "stream",
     "text": [
      "    * \n",
      "   * * \n",
      "  * * * \n",
      " * * * * \n",
      "* * * * * \n"
     ]
    }
   ],
   "source": [
    "# Printing a Pyramid:\n",
    "rows = 5\n",
    "for i in range(1, rows+1):\n",
    "    for j in range(rows-i):\n",
    "        print(end=\" \")\n",
    "    for k in range(i):\n",
    "        print(\"*\", end=\" \")\n",
    "    print()"
   ]
  },
  {
   "cell_type": "code",
   "execution_count": 15,
   "id": "b019d773-2d7d-4464-a51e-72b3a0649851",
   "metadata": {},
   "outputs": [],
   "source": [
    "# 7. Reverse a while loop to display numebers from 10 to 1."
   ]
  },
  {
   "cell_type": "code",
   "execution_count": 17,
   "id": "8970dee3-9c04-4928-a276-583c1ab7f2cd",
   "metadata": {},
   "outputs": [
    {
     "name": "stdout",
     "output_type": "stream",
     "text": [
      "10\n",
      "9\n",
      "8\n",
      "7\n",
      "6\n",
      "5\n",
      "4\n",
      "3\n",
      "2\n",
      "1\n"
     ]
    }
   ],
   "source": [
    "num = 10\n",
    "while num > 0:\n",
    "    print(num)\n",
    "    num -= 1"
   ]
  }
 ],
 "metadata": {
  "kernelspec": {
   "display_name": "Python 3 (ipykernel)",
   "language": "python",
   "name": "python3"
  },
  "language_info": {
   "codemirror_mode": {
    "name": "ipython",
    "version": 3
   },
   "file_extension": ".py",
   "mimetype": "text/x-python",
   "name": "python",
   "nbconvert_exporter": "python",
   "pygments_lexer": "ipython3",
   "version": "3.10.8"
  }
 },
 "nbformat": 4,
 "nbformat_minor": 5
}
