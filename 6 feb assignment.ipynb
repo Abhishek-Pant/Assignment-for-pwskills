{
 "cells": [
  {
   "cell_type": "code",
   "execution_count": 2,
   "id": "4e133dfa-39e4-4317-925d-5cf32dc34a42",
   "metadata": {},
   "outputs": [],
   "source": [
    "# Create a unction which will take a list as an argument and return the product of all the numbers after creating a flat list.\n",
    "# Use the below-given list as an argument for your function.\n",
    "\n",
    "# list1 = [1,2,3,4,[44,55,66,True],False,(34,56,78,89,34),{1,2,3,3,2,1},{1:34,'key2':[55,67,78,89],4:(45,22,61,34)},[56,'data science'],'Machine Learning']"
   ]
  },
  {
   "cell_type": "code",
   "execution_count": 35,
   "id": "86ac4a36-453c-4971-a9c6-d9de0594455e",
   "metadata": {},
   "outputs": [],
   "source": [
    " l = []\n",
    "def function(a):\n",
    "    for i in a:\n",
    "        if type(i) in [int, float]:\n",
    "            l.append(i)\n",
    "        if type(i) in [list, tuple, set]:\n",
    "            function(i)\n",
    "        if type(i) == dict:\n",
    "            for j in i.keys():\n",
    "                if type(j) in [int, float]:\n",
    "                    l.append(j)\n",
    "                if type(j) in [list, tuple, set]:\n",
    "                    function(j)\n",
    "            for j in i.values():\n",
    "                if type(j) in [int, float]:\n",
    "                    l.append(j)\n",
    "                if type(j) in [list, tuple, set]:\n",
    "                    function(j)\n",
    "    return l"
   ]
  },
  {
   "cell_type": "code",
   "execution_count": 36,
   "id": "eedb3530-44fe-48b4-9eb0-1b8dd093f771",
   "metadata": {},
   "outputs": [
    {
     "name": "stdout",
     "output_type": "stream",
     "text": [
      "4134711838987085478833841242112000\n"
     ]
    },
    {
     "data": {
      "text/plain": [
       "[1,\n",
       " 2,\n",
       " 3,\n",
       " 4,\n",
       " 44,\n",
       " 55,\n",
       " 66,\n",
       " 34,\n",
       " 56,\n",
       " 78,\n",
       " 89,\n",
       " 34,\n",
       " 1,\n",
       " 2,\n",
       " 3,\n",
       " 1,\n",
       " 4,\n",
       " 34,\n",
       " 55,\n",
       " 67,\n",
       " 78,\n",
       " 89,\n",
       " 45,\n",
       " 22,\n",
       " 61,\n",
       " 34,\n",
       " 56]"
      ]
     },
     "execution_count": 36,
     "metadata": {},
     "output_type": "execute_result"
    }
   ],
   "source": [
    "list1 = [1,2,3,4,[44,55,66,True],False,(34,56,78,89,34),{1,2,3,3,2,1},{1:34,'key2':[55,67,78,89],4:(45,22,61,34)},[56,'data science'],'Machine Learning']\n",
    "ans  = function(list1)\n",
    "product = 1\n",
    "for i in ans:\n",
    "    product *= i\n",
    "print(product)\n",
    "ans"
   ]
  },
  {
   "cell_type": "code",
   "execution_count": 37,
   "id": "9161a884-18e0-4295-abe8-3ab4c4e69614",
   "metadata": {},
   "outputs": [],
   "source": [
    "# Write a python program for encrypting a message sent to you by your friend. The logic of encryption should be such that, for a the output should be z. For b, the output should be y.\n",
    "# For c, the output should be x respectively. Also, the whitespace should be replaced with a dollar sign. Keep the punctuation marks unchanged.\n",
    "\n",
    "# Input Sentence: I want to become a Data Scientist.\n",
    "# Encrypt the above input sentence using the program you just created.\n",
    "# Note: Convert the given input sentence into lowercase before encrypting. The final output should be lowercase."
   ]
  },
  {
   "cell_type": "code",
   "execution_count": 51,
   "id": "3a360c57-8e25-4f97-b43c-fc7784391b3b",
   "metadata": {},
   "outputs": [],
   "source": [
    "d = {\n",
    "     'a' : 'z',\n",
    "     'b' : 'y',\n",
    "     'c' : 'x',\n",
    "     'd' : 'w',\n",
    "     'e' : 'v',\n",
    "     'f' : 'u',\n",
    "     'g' : 't',\n",
    "     'h' : 's',\n",
    "     'i' : 'r',\n",
    "     'j' : 'q',\n",
    "     'k' : 'p',\n",
    "     'l' : 'o',\n",
    "     'm' : 'n',\n",
    "     'n' : 'm',\n",
    "     'o' : 'l',\n",
    "     'p' : 'k',\n",
    "     'q' : 'j',\n",
    "     'r' : 'i',\n",
    "     's' : 'h',\n",
    "     't' : 'g',\n",
    "     'u' : 'f',\n",
    "     'v' : 'e',\n",
    "     'w' : 'd',\n",
    "     'x' : 'c',\n",
    "     'y' : 'b',\n",
    "     'z' : 'a',\n",
    "    }\n",
    "def encrypting(s):\n",
    "    s1,s2 = s.lower(),''\n",
    "    for i in s1:\n",
    "        if i == ' ':\n",
    "            s2 += '$'\n",
    "        elif i in d:\n",
    "            s2 += d[i]\n",
    "        else:\n",
    "            continue\n",
    "    return s2"
   ]
  },
  {
   "cell_type": "code",
   "execution_count": 52,
   "id": "9367588c-5fdb-4e17-bb26-03f0ca9e26dc",
   "metadata": {},
   "outputs": [
    {
     "name": "stdout",
     "output_type": "stream",
     "text": [
      "r$dzmg$gl$yvxlnv$z$wzgz$hxrvmgrhg\n"
     ]
    }
   ],
   "source": [
    "s = 'I want to become a Data Scientist.'\n",
    "ans = encrypting(s)\n",
    "print(ans)"
   ]
  },
  {
   "cell_type": "code",
   "execution_count": null,
   "id": "0684f662-d548-47aa-99b5-df5d402a8283",
   "metadata": {},
   "outputs": [],
   "source": []
  }
 ],
 "metadata": {
  "kernelspec": {
   "display_name": "Python 3 (ipykernel)",
   "language": "python",
   "name": "python3"
  },
  "language_info": {
   "codemirror_mode": {
    "name": "ipython",
    "version": 3
   },
   "file_extension": ".py",
   "mimetype": "text/x-python",
   "name": "python",
   "nbconvert_exporter": "python",
   "pygments_lexer": "ipython3",
   "version": "3.10.8"
  }
 },
 "nbformat": 4,
 "nbformat_minor": 5
}
