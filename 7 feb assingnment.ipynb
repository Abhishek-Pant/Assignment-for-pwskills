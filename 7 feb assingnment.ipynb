{
 "cells": [
  {
   "cell_type": "code",
   "execution_count": 169,
   "id": "97284167-f91f-465f-b539-711c82a1038a",
   "metadata": {},
   "outputs": [],
   "source": [
    "# You are writing code for a company. The requirement of the company is that you create a python function that will check whether the password entered by the user is correct or not.\n",
    "# The function should take the password as input and return the string 'Valid Password' if the entered password follows the below-given password guidelines else it should return\n",
    "#'Invalid Password'.\n",
    "\n",
    "# 1. The Password should contain at least two uppercase letters and at least two lowercase letters.\n",
    "# 2. The Password should contain at least a number and three special characters.\n",
    "# 3. The length of the password should be 10 characters long."
   ]
  },
  {
   "cell_type": "code",
   "execution_count": 170,
   "id": "dcbe5024-f54b-46d4-b9d5-50f5c1fcf881",
   "metadata": {},
   "outputs": [],
   "source": [
    "def check_password(s):\n",
    "    if len(s) != 10:\n",
    "        return 'Invalid Password'\n",
    "    uppercase_letters, lowercase_letters, number_letters, special_characters = 0, 0, 0, 0\n",
    "    for i in s:\n",
    "        if i.isupper():\n",
    "            uppercase_letters += 1\n",
    "        elif i.islower():\n",
    "            lowercase_letters += 1\n",
    "        elif i.isnumeric():\n",
    "            number_letters += 1\n",
    "        else:\n",
    "            special_characters += 1\n",
    "    if uppercase_letters >= 2 and lowercase_letters >= 2 and number_letters >= 1 and special_characters >= 3:\n",
    "        return 'Valid Password'\n",
    "    else:\n",
    "        return 'Invalid Password'"
   ]
  },
  {
   "cell_type": "code",
   "execution_count": 171,
   "id": "255f4b91-e1b9-461e-bc28-8e27387ce86d",
   "metadata": {},
   "outputs": [
    {
     "name": "stdout",
     "output_type": "stream",
     "text": [
      "Valid Password\n",
      "Invalid Password\n"
     ]
    }
   ],
   "source": [
    "password1 = '#@URbuTi0@'\n",
    "print(check_password(password1))\n",
    "password2 = '2eR2eeRR@#'\n",
    "print(check_password(password2))"
   ]
  },
  {
   "cell_type": "code",
   "execution_count": 172,
   "id": "c753bc0f-b20d-4f48-b23a-bda828b774b4",
   "metadata": {},
   "outputs": [],
   "source": [
    "import re\n",
    "def check_password(password):\n",
    "    uppercase_regex = re.compile(r'[A-Z]')\n",
    "    lowercase_regex = re.compile(r'[a-z]')\n",
    "    number_regex = re.compile(r'\\d+')\n",
    "    special_char_regex = re.compile(r'[!@#$%^&*]')\n",
    "    if len(password) != 10:\n",
    "        return 'Invalid Password'\n",
    "    if len(uppercase_regex.findall(password)) >= 2 and len(lowercase_regex.findall(password)) >= 2 and len(number_regex.findall(password)) >= 1 and len(special_char_regex.findall(password)) >=3:\n",
    "        return 'Valid Password'\n",
    "    else:\n",
    "        return 'Invalid Password'\n"
   ]
  },
  {
   "cell_type": "code",
   "execution_count": 173,
   "id": "6d728d61-0987-4486-add4-f73c9bb3c7cf",
   "metadata": {},
   "outputs": [
    {
     "name": "stdout",
     "output_type": "stream",
     "text": [
      "Valid Password\n",
      "Invalid Password\n"
     ]
    }
   ],
   "source": [
    "password1 = '#@URbuTi0@'\n",
    "print(check_password(password1))\n",
    "password2 = '2eR2eeRR@#'\n",
    "print(check_password(password2))"
   ]
  },
  {
   "cell_type": "code",
   "execution_count": 174,
   "id": "769607e1-6349-4b66-b474-e91ab7c16638",
   "metadata": {},
   "outputs": [],
   "source": [
    "# 2. (i) Check if the string start with a partucular letter."
   ]
  },
  {
   "cell_type": "code",
   "execution_count": 175,
   "id": "558b02f0-57da-4e92-99a2-d13eca949f06",
   "metadata": {},
   "outputs": [
    {
     "data": {
      "text/plain": [
       "'yes'"
      ]
     },
     "execution_count": 175,
     "metadata": {},
     "output_type": "execute_result"
    }
   ],
   "source": [
    "# let us say that particular letters be 'A'\n",
    "s = 'Abhishek'\n",
    "particular_letter = 'A'\n",
    "ans = lambda i: 'yes' if i[0] == particular_letter else 'no'\n",
    "ans(s)"
   ]
  },
  {
   "cell_type": "code",
   "execution_count": 176,
   "id": "3e5ea336-ceda-4c2c-818c-8bcfe8b5876f",
   "metadata": {},
   "outputs": [],
   "source": [
    "# (ii) Check if the string is numeric."
   ]
  },
  {
   "cell_type": "code",
   "execution_count": 177,
   "id": "76baf681-e5f4-4627-b754-b9efdc108b28",
   "metadata": {},
   "outputs": [
    {
     "data": {
      "text/plain": [
       "'yes'"
      ]
     },
     "execution_count": 177,
     "metadata": {},
     "output_type": "execute_result"
    }
   ],
   "source": [
    "s = '0123456'\n",
    "l = ['1','2','3','4','5','6','7','8','9','0']\n",
    "def is_numeric(s):\n",
    "    counter = 0\n",
    "    for i in s:\n",
    "        if i in l:\n",
    "            counter += 1\n",
    "    if counter == len(s):\n",
    "        return True\n",
    "    else :\n",
    "        return False\n",
    "ans = lambda i: 'yes' if is_numeric(i) else 'no'\n",
    "ans(s)"
   ]
  },
  {
   "cell_type": "code",
   "execution_count": 178,
   "id": "156a267b-0faf-400b-81ea-f814216b8c8b",
   "metadata": {},
   "outputs": [],
   "source": [
    "# (iii) Sort a list of tuples having fruit names and their quantity. [('mango',99),('orange',80).('grapes',1000)]"
   ]
  },
  {
   "cell_type": "code",
   "execution_count": 179,
   "id": "378dd105-91d5-406e-ad5b-af9264f52f1e",
   "metadata": {},
   "outputs": [
    {
     "name": "stdout",
     "output_type": "stream",
     "text": [
      "sort according to first element\n",
      "accending order : [('grapes', 1000), ('mango', 99), ('orange', 80)]\n",
      "decending order : [('orange', 80), ('mango', 99), ('grapes', 1000)]\n",
      "sort according to second element\n",
      "accending order : [('orange', 80), ('mango', 99), ('grapes', 1000)]\n",
      "decending order : [('grapes', 1000), ('mango', 99), ('orange', 80)]\n"
     ]
    }
   ],
   "source": [
    "l = [('mango',99),('orange',80),('grapes',1000)]\n",
    "print('sort according to first element')\n",
    "l.sort(key = lambda i: i[0])\n",
    "print('accending order :',l)\n",
    "l.sort(key = lambda i: i[0],reverse = True)\n",
    "print('decending order :',l)\n",
    "\n",
    "print('sort according to second element')\n",
    "l.sort(key = lambda i: i[1])\n",
    "print('accending order :',l)\n",
    "l.sort(key = lambda i: i[1],reverse = True)\n",
    "print('decending order :',l)"
   ]
  },
  {
   "cell_type": "code",
   "execution_count": 180,
   "id": "33929799-b488-488d-b106-84488f1ac271",
   "metadata": {},
   "outputs": [],
   "source": [
    "# (iv) Find the squares of number from 1 to 10"
   ]
  },
  {
   "cell_type": "code",
   "execution_count": 181,
   "id": "db927c41-079b-4358-bbee-bddb82ed9ce1",
   "metadata": {},
   "outputs": [
    {
     "data": {
      "text/plain": [
       "[1, 4, 9, 16, 25, 36, 49, 64, 81, 100]"
      ]
     },
     "execution_count": 181,
     "metadata": {},
     "output_type": "execute_result"
    }
   ],
   "source": [
    "l = [1,2,3,4,5,6,7,8,9,10]\n",
    "ans = list(map(lambda i: i*i,l))\n",
    "ans"
   ]
  },
  {
   "cell_type": "code",
   "execution_count": 182,
   "id": "fb38658a-c857-4f72-b858-61b3a992304b",
   "metadata": {},
   "outputs": [],
   "source": [
    "# (v) Find the cube of number from 1 to 10"
   ]
  },
  {
   "cell_type": "code",
   "execution_count": 183,
   "id": "26012cff-ce4d-4b53-b8d4-183f992f1672",
   "metadata": {},
   "outputs": [
    {
     "data": {
      "text/plain": [
       "[1, 8, 27, 64, 125, 216, 343, 512, 729, 1000]"
      ]
     },
     "execution_count": 183,
     "metadata": {},
     "output_type": "execute_result"
    }
   ],
   "source": [
    "l = [1,2,3,4,5,6,7,8,9,10]\n",
    "ans = list(map(lambda i: i*i*i,l))\n",
    "ans"
   ]
  },
  {
   "cell_type": "code",
   "execution_count": 184,
   "id": "fe6482e5-ab70-4301-b6c7-76f15c640fb3",
   "metadata": {},
   "outputs": [],
   "source": [
    "# (vi) Check if the given number is even"
   ]
  },
  {
   "cell_type": "code",
   "execution_count": 185,
   "id": "0f4025a8-33e3-4271-a4fc-573794e17e44",
   "metadata": {},
   "outputs": [
    {
     "data": {
      "text/plain": [
       "'yes'"
      ]
     },
     "execution_count": 185,
     "metadata": {},
     "output_type": "execute_result"
    }
   ],
   "source": [
    "number = 10\n",
    "ans = lambda i: 'yes' if i % 2 == 0 else 'no'\n",
    "ans(number)"
   ]
  },
  {
   "cell_type": "code",
   "execution_count": 186,
   "id": "897ee429-bbfa-48c7-b5fa-d9a3c71ddfb4",
   "metadata": {},
   "outputs": [],
   "source": [
    "# (vii) Filter odd number from the given list. [1,2,3,4,5,6,7,8,9,10]"
   ]
  },
  {
   "cell_type": "code",
   "execution_count": 187,
   "id": "4d831fc7-78d6-4cde-ad69-085aae889307",
   "metadata": {},
   "outputs": [
    {
     "data": {
      "text/plain": [
       "[1, 3, 5, 7, 9]"
      ]
     },
     "execution_count": 187,
     "metadata": {},
     "output_type": "execute_result"
    }
   ],
   "source": [
    "l =  [1,2,3,4,5,6,7,8,9,10]\n",
    "ans = list(filter(lambda i: i%2!=0,l))\n",
    "ans "
   ]
  },
  {
   "cell_type": "code",
   "execution_count": 188,
   "id": "4514ac4e-5b5b-46bd-b21e-38258338cf0d",
   "metadata": {},
   "outputs": [],
   "source": [
    "# (viii) Sort a list of integers into positive and negative integers lists. [1,2,3,4,5,6,-1,-2,-3,-4,-5,0]"
   ]
  },
  {
   "cell_type": "code",
   "execution_count": 189,
   "id": "70dad549-ee98-4952-920b-69fe640637f1",
   "metadata": {},
   "outputs": [
    {
     "name": "stdout",
     "output_type": "stream",
     "text": [
      "[0, 1, 2, 3, 4, 5, 6]\n",
      "[-5, -4, -3, -2, -1]\n"
     ]
    }
   ],
   "source": [
    "l = [1,2,3,4,5,6,-1,-2,-3,-4,-5,0]\n",
    "positive = list(filter(lambda i: i >= 0 ,l))\n",
    "negative = list(filter(lambda i: i < 0 ,l))\n",
    "positive.sort()\n",
    "negative.sort()\n",
    "print(positive)\n",
    "print(negative)"
   ]
  },
  {
   "cell_type": "code",
   "execution_count": null,
   "id": "c7ff77bd-5a31-498b-9e31-152f635252f7",
   "metadata": {},
   "outputs": [],
   "source": []
  }
 ],
 "metadata": {
  "kernelspec": {
   "display_name": "Python 3 (ipykernel)",
   "language": "python",
   "name": "python3"
  },
  "language_info": {
   "codemirror_mode": {
    "name": "ipython",
    "version": 3
   },
   "file_extension": ".py",
   "mimetype": "text/x-python",
   "name": "python",
   "nbconvert_exporter": "python",
   "pygments_lexer": "ipython3",
   "version": "3.10.8"
  }
 },
 "nbformat": 4,
 "nbformat_minor": 5
}
