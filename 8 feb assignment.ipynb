{
 "cells": [
  {
   "cell_type": "code",
   "execution_count": 1,
   "id": "fb5761ca-ba32-417a-830d-a5362b1a5fa3",
   "metadata": {},
   "outputs": [],
   "source": [
    "# 1. What is Abstraction in OOPs? Explain with an example."
   ]
  },
  {
   "cell_type": "code",
   "execution_count": 5,
   "id": "bd56791c-717d-48d7-aaed-d33a890a9ab3",
   "metadata": {},
   "outputs": [
    {
     "name": "stdout",
     "output_type": "stream",
     "text": [
      "Starting the car...\n",
      "Stopping the car...\n"
     ]
    }
   ],
   "source": [
    "'''\n",
    "Abstraction in object-oriented programming (OOP) refers to the process of hiding the implementation details of a class and exposing only the necessary information to the user.\n",
    "The idea is to present only the essential features of an object to the outside world, while hiding the implementation details that are not necessary to know.\n",
    "\n",
    "One common example of abstraction in OOP is a car. A car is an abstract object that provides a simplified view of the underlying implementation details of its engine, transmission, \n",
    "fuel system, and other components. From the user's perspective, all they need to know is how to operate the car's controls, such as the steering wheel, gear shift, and accelerator\n",
    "pedal, to drive the car. The details of how the engine, transmission, and other components work together to make the car move are abstracted away and not important for the user to know.\n",
    "In Python, abstraction is achieved using classes and objects, as well as using abstract base classes (ABCs).\n",
    "'''\n",
    "class Car:\n",
    "    def __init__(self, make, model, year):\n",
    "        self.make = make\n",
    "        self.model = model\n",
    "        self.year = year\n",
    "        \n",
    "    def start(self):\n",
    "        print(\"Starting the car...\")\n",
    "        \n",
    "    def stop(self):\n",
    "        print(\"Stopping the car...\")\n",
    "        \n",
    "my_car = Car(\"Toyota\", \"Camry\", 2020)\n",
    "my_car.start()\n",
    "my_car.stop()"
   ]
  },
  {
   "cell_type": "code",
   "execution_count": 6,
   "id": "3a7c8cce-4b30-427a-8674-9f36639cf1c7",
   "metadata": {},
   "outputs": [
    {
     "name": "stdout",
     "output_type": "stream",
     "text": [
      "Starting the car...\n",
      "Stopping the car...\n"
     ]
    }
   ],
   "source": [
    "from abc import ABC, abstractmethod\n",
    "\n",
    "class Vehicle(ABC):\n",
    "    @abstractmethod\n",
    "    def start(self):\n",
    "        pass\n",
    "    \n",
    "    @abstractmethod\n",
    "    def stop(self):\n",
    "        pass\n",
    "    \n",
    "class Car(Vehicle):\n",
    "    def start(self):\n",
    "        print(\"Starting the car...\")\n",
    "        \n",
    "    def stop(self):\n",
    "        print(\"Stopping the car...\")\n",
    "        \n",
    "my_car = Car()\n",
    "my_car.start()\n",
    "my_car.stop()"
   ]
  },
  {
   "cell_type": "code",
   "execution_count": 2,
   "id": "b7393209-4776-40cf-9a62-813fbf440fc2",
   "metadata": {},
   "outputs": [],
   "source": [
    "# 2. Differentiate between Abstraction and Encapsulation. Explain with an example."
   ]
  },
  {
   "cell_type": "code",
   "execution_count": 8,
   "id": "07df1a0f-27fd-4706-8313-9cf0563b0f0c",
   "metadata": {},
   "outputs": [
    {
     "name": "stdout",
     "output_type": "stream",
     "text": [
      "Toyota\n",
      "Camry\n",
      "2020\n",
      "Starting the car...\n",
      "60\n",
      "Stopping the car...\n"
     ]
    }
   ],
   "source": [
    "'''\n",
    "Abstraction refers to the process of hiding the implementation details of an object and exposing only the essential features to the outside world. The idea is to present only the \n",
    "necessary information to the user, while hiding the implementation details that are not necessary to know. Abstraction is used to simplify complex systems by breaking them down \n",
    "into smaller, more manageable parts.\n",
    "\n",
    "Encapsulation refers to the process of wrapping data and functions within a single unit, or object, and hiding the implementation details of the object from the outside world. \n",
    "Encapsulation is used to protect the intenal state of an object from being accessed or modified directly, and to ensure that changes to the implementation of the object do not\n",
    "affect other parts of the system.\n",
    "\n",
    "In other words, abstraction is concerned with the separation of an object's essential features from its implementation details, while encapsulation is concerned with the protection\n",
    "of an object's internal state.\n",
    "'''\n",
    "class Car:\n",
    "    def __init__(self, make, model, year):\n",
    "        self.__make = make\n",
    "        self.__model = model\n",
    "        self.__year = year\n",
    "        self.__speed = 0\n",
    "        \n",
    "    def start(self):\n",
    "        print(\"Starting the car...\")\n",
    "        \n",
    "    def stop(self):\n",
    "        print(\"Stopping the car...\")\n",
    "        \n",
    "    def get_make(self):\n",
    "        return self.__make\n",
    "    \n",
    "    def get_model(self):\n",
    "        return self.__model\n",
    "    \n",
    "    def get_year(self):\n",
    "        return self.__year\n",
    "    \n",
    "    def set_speed(self, speed):\n",
    "        self.__speed = speed\n",
    "        \n",
    "    def get_speed(self):\n",
    "        return self.__speed\n",
    "    \n",
    "my_car = Car(\"Toyota\", \"Camry\", 2020)\n",
    "print(my_car.get_make())  \n",
    "print(my_car.get_model())  \n",
    "print(my_car.get_year()) \n",
    "\n",
    "my_car.start() \n",
    "my_car.set_speed(60)\n",
    "print(my_car.get_speed())  \n",
    "my_car.stop() "
   ]
  },
  {
   "cell_type": "code",
   "execution_count": 3,
   "id": "daaf900b-bb94-4b74-9d19-88dbabe1f8db",
   "metadata": {},
   "outputs": [],
   "source": [
    "# 3. What is abc module in python? Why is it used?"
   ]
  },
  {
   "cell_type": "code",
   "execution_count": 9,
   "id": "84746777-9ad8-4e15-bd09-cfe021448fb5",
   "metadata": {},
   "outputs": [
    {
     "name": "stdout",
     "output_type": "stream",
     "text": [
      "Starting the car...\n",
      "Stopping the car...\n"
     ]
    }
   ],
   "source": [
    "'''\n",
    "The abc (abstract base class) module in Python provides a way to define abstract base classes, which are classes that cannot be instantiated but can be used as a base for other\n",
    "classes. An abstract base class provides a common interface for its subclasses, and can be used to enforce common behavior and provide default implementation of certain methods.\n",
    "\n",
    "The abc module is used to create abstract base classes in Python because it provides a simple and standardized way to define abstract classes, and it also provides a mechanism for\n",
    "enforcing that subclasses implement certain methods. This makes it easier to create reusable and maintainable code, as it ensures that subclasses of an abstract base class provide \n",
    "the expected behavior and functionality.\n",
    "'''\n",
    "from abc import ABC, abstractmethod\n",
    "\n",
    "class Vehicle(ABC):\n",
    "    @abstractmethod\n",
    "    def start(self):\n",
    "        pass\n",
    "    \n",
    "    @abstractmethod\n",
    "    def stop(self):\n",
    "        pass\n",
    "    \n",
    "class Car(Vehicle):\n",
    "    def start(self):\n",
    "        print(\"Starting the car...\")\n",
    "        \n",
    "    def stop(self):\n",
    "        print(\"Stopping the car...\")\n",
    "        \n",
    "my_car = Car()\n",
    "my_car.start()\n",
    "my_car.stop()"
   ]
  },
  {
   "cell_type": "code",
   "execution_count": 4,
   "id": "80d2fb51-91c4-4df5-9d19-e156c3e6994c",
   "metadata": {},
   "outputs": [],
   "source": [
    "# 4. How can we achieve data abstraction?"
   ]
  },
  {
   "cell_type": "code",
   "execution_count": null,
   "id": "c37cf17d-5b71-472f-88c8-fe35b1bba76f",
   "metadata": {},
   "outputs": [],
   "source": [
    "'''\n",
    "Data abstraction can be achieved in several ways in programming, including the following:\n",
    "\n",
    "1. Encapsulation: Encapsulation is the mechanism of wrapping up data and behavior into a single unit, such as an object, and hiding the implementation details from the outside world. This allows you to manipulate the data through a defined interface, and protects the internal state of the object from being accessed or modified directly.\n",
    "2. Abstract Data Types (ADTs): An abstract data type is a high-level description of a data structure that defines the operations that can be performed on it, without specifying the implementation details. For example, you could define an abstract data type called Stack that supports the operations push, pop, and top, without specifying how the stack is actually implemented.\n",
    "3 Interfaces: An interface is a set of methods or functions that defines a common contract that must be implemented by a class. Interfaces provide a way to specify the behavior that a class must have, without specifying the implementation details. This allows you to create flexible and reusable code, as different classes can implement the same interface in different ways.\n",
    "4. Information hiding: Information hiding is the principle of hiding implementation details from the outside world and exposing only the essential information and behavior through a defined interface. This allows you to maintain the internal state of a system, and provides a stable and predictable interface for interacting with the system.\n",
    "\n",
    "By using these techniques, you can achieve data abstraction in your code, which allows you to create flexible and maintainable systems, and reduces the risk of unintended side-effects.\n",
    "'''"
   ]
  },
  {
   "cell_type": "code",
   "execution_count": null,
   "id": "3c9bd98b-54da-41b4-a111-18c00788aa6f",
   "metadata": {},
   "outputs": [],
   "source": [
    "# 5. Can we create an instance of an abstract class? Explain your answer."
   ]
  },
  {
   "cell_type": "code",
   "execution_count": 10,
   "id": "bc0a5486-4231-45e3-a298-7437d77d6415",
   "metadata": {},
   "outputs": [
    {
     "ename": "TypeError",
     "evalue": "Can't instantiate abstract class Shape with abstract methods area, perimeter",
     "output_type": "error",
     "traceback": [
      "\u001b[0;31m---------------------------------------------------------------------------\u001b[0m",
      "\u001b[0;31mTypeError\u001b[0m                                 Traceback (most recent call last)",
      "Cell \u001b[0;32mIn[10], line 16\u001b[0m\n\u001b[1;32m     12\u001b[0m     \u001b[38;5;129m@abc\u001b[39m\u001b[38;5;241m.\u001b[39mabstractmethod\n\u001b[1;32m     13\u001b[0m     \u001b[38;5;28;01mdef\u001b[39;00m \u001b[38;5;21mperimeter\u001b[39m(\u001b[38;5;28mself\u001b[39m):\n\u001b[1;32m     14\u001b[0m         \u001b[38;5;28;01mpass\u001b[39;00m\n\u001b[0;32m---> 16\u001b[0m shape \u001b[38;5;241m=\u001b[39m \u001b[43mShape\u001b[49m\u001b[43m(\u001b[49m\u001b[43m)\u001b[49m\n",
      "\u001b[0;31mTypeError\u001b[0m: Can't instantiate abstract class Shape with abstract methods area, perimeter"
     ]
    }
   ],
   "source": [
    "'''\n",
    "No, we cannot create an instance of an abstract class directly in Python. An abstract class is a class that is meant to be subclassed and is not meant to be instantiated on its own.\n",
    "If we try to create an instance of an abstract class, you will get a TypeError indicating that the abstract class cannot be instantiated directly. For example:\n",
    "'''\n",
    "import abc\n",
    "\n",
    "class Shape(metaclass=abc.ABCMeta):\n",
    "    @abc.abstractmethod\n",
    "    def area(self):\n",
    "        pass\n",
    "    \n",
    "    @abc.abstractmethod\n",
    "    def perimeter(self):\n",
    "        pass\n",
    "\n",
    "shape = Shape()"
   ]
  },
  {
   "cell_type": "code",
   "execution_count": null,
   "id": "00f9428a-1d71-400e-ae61-b0d794efe160",
   "metadata": {},
   "outputs": [],
   "source": []
  }
 ],
 "metadata": {
  "kernelspec": {
   "display_name": "Python 3 (ipykernel)",
   "language": "python",
   "name": "python3"
  },
  "language_info": {
   "codemirror_mode": {
    "name": "ipython",
    "version": 3
   },
   "file_extension": ".py",
   "mimetype": "text/x-python",
   "name": "python",
   "nbconvert_exporter": "python",
   "pygments_lexer": "ipython3",
   "version": "3.10.8"
  }
 },
 "nbformat": 4,
 "nbformat_minor": 5
}
