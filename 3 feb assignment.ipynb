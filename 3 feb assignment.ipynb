{
 "cells": [
  {
   "cell_type": "code",
   "execution_count": 1,
   "id": "ebd724ac-82aa-420b-a248-8c3b2d662efe",
   "metadata": {},
   "outputs": [],
   "source": [
    "# 1. Which keyword is used to create a function? Create a function to return a list of odd numbers in the range of 1 to 25."
   ]
  },
  {
   "cell_type": "code",
   "execution_count": 2,
   "id": "71e9ebf1-3143-4077-9559-facb668255fb",
   "metadata": {},
   "outputs": [],
   "source": [
    "'''\n",
    "The keyword used to create a function in Python is \"def\".\n",
    "'''\n",
    "def return_odd_in_range(a,b):\n",
    "    if a % 2 == 0:\n",
    "        return list(range(a+1,b+1,2))\n",
    "    else: \n",
    "        return list(range(a,b+1,2))"
   ]
  },
  {
   "cell_type": "code",
   "execution_count": 3,
   "id": "97d69610-cfae-4bdc-bc85-bf920209c23f",
   "metadata": {},
   "outputs": [
    {
     "data": {
      "text/plain": [
       "[1, 3, 5, 7, 9, 11, 13, 15, 17, 19, 21, 23, 25]"
      ]
     },
     "execution_count": 3,
     "metadata": {},
     "output_type": "execute_result"
    }
   ],
   "source": [
    "return_odd_in_range(1,25)"
   ]
  },
  {
   "cell_type": "code",
   "execution_count": 4,
   "id": "faeabbeb-650d-4d02-b333-2d605bb719b7",
   "metadata": {},
   "outputs": [
    {
     "data": {
      "text/plain": [
       "[3, 5, 7, 9, 11, 13, 15, 17, 19, 21, 23, 25]"
      ]
     },
     "execution_count": 4,
     "metadata": {},
     "output_type": "execute_result"
    }
   ],
   "source": [
    "return_odd_in_range(2,25)"
   ]
  },
  {
   "cell_type": "code",
   "execution_count": 5,
   "id": "6796e771-a40e-4a6f-8d64-48a733ff0a19",
   "metadata": {},
   "outputs": [],
   "source": [
    "# 2. Why *args and **kwargs is used in some functions? Create a function each for *args and **kwargs to demostrate their use."
   ]
  },
  {
   "cell_type": "code",
   "execution_count": 9,
   "id": "4a842ce2-b232-4fd0-8dca-ad61c17e2cb5",
   "metadata": {},
   "outputs": [
    {
     "name": "stdout",
     "output_type": "stream",
     "text": [
      "15\n"
     ]
    }
   ],
   "source": [
    "'''\n",
    "*args and **kwargs are special syntax in Python for passing a variable number of arguments to a function.\n",
    "*args is used to send a non-keyworded variable length argument list to the function. It is used to pass a list of arguments of any length to a function. The syntax is to use the\n",
    "asterisk (*) operator before the parameter name.\n",
    "**kwargs is used to send a keyworded, variable length argument list to the function. It allows you to pass keyworded arguments to a function, with the keywords being the dictionary\n",
    "keys, and the values being the dictionary values. The syntax is to use two asterisk (**) operators before the parameter name.\n",
    "By using these, the function can be made more flexible to handle a different number of arguments passed during function calls.\n",
    "'''\n",
    "def sum_numbers(*args):\n",
    "    result = 0\n",
    "    for num in args:\n",
    "        result += num\n",
    "    return result\n",
    "\n",
    "print(sum_numbers(1, 2, 3, 4, 5)) "
   ]
  },
  {
   "cell_type": "code",
   "execution_count": 25,
   "id": "47503300-844c-48e3-8db6-b3d87193a382",
   "metadata": {},
   "outputs": [
    {
     "name": "stdout",
     "output_type": "stream",
     "text": [
      "name: John\n",
      "age: 32\n",
      "country: USA\n"
     ]
    }
   ],
   "source": [
    "def print_keyworded_arguments(**kwargs):\n",
    "    for key, value in kwargs.items():\n",
    "        print(f\"{key}: {value}\")\n",
    "\n",
    "print_keyworded_arguments(name=\"John\", age=32, country=\"USA\")"
   ]
  },
  {
   "cell_type": "code",
   "execution_count": null,
   "id": "b5c02b9d-d2c3-4cdf-82ca-22a054e55d7f",
   "metadata": {},
   "outputs": [],
   "source": [
    "# 3. What is an iterator in python? Name the method used to initialise the iterator object and the method used for iteration. Use these methods to print the first five elements of the\n",
    "# given list[2,4,6,8,10,12,14,16,18,20]."
   ]
  },
  {
   "cell_type": "code",
   "execution_count": 26,
   "id": "6a7eaac8-6c7c-4dbe-8f4c-a2c443e2f04f",
   "metadata": {},
   "outputs": [
    {
     "name": "stdout",
     "output_type": "stream",
     "text": [
      "2\n",
      "4\n",
      "6\n",
      "8\n",
      "10\n",
      "12\n",
      "14\n",
      "16\n",
      "18\n",
      "20\n"
     ]
    }
   ],
   "source": [
    "'''\n",
    "An iterator is an object that allows the programmer to traverse throught a sequence of data without haveing to store the entire data in the memory\n",
    "An iterator in Python is an object that implements two methods: __iter__() and __next__(). The __iter__() method returns the iterator object and is used to initialize the iterator.\n",
    "The __next__() method is used for iteration, and it returns the next value in the sequence. When there are no more items to return, the __next__() method should raise a StopIteration\n",
    "exception.\n",
    "'''\n",
    "l = [2,4,6,8,10,12,14,16,18,20]\n",
    "iterator = iter(l)\n",
    "counter = len(l) - 1\n",
    "while counter >= 0:\n",
    "    print(next(iterator))\n",
    "    counter -= 1"
   ]
  },
  {
   "cell_type": "code",
   "execution_count": null,
   "id": "3c908198-7d7d-45c3-b4e4-dfc72aa94826",
   "metadata": {},
   "outputs": [],
   "source": [
    "# 4. What is a generator function in python? Why yield keyword is used Give an example of a generator function."
   ]
  },
  {
   "cell_type": "code",
   "execution_count": 30,
   "id": "57bb65ce-8831-47b8-b69b-fddcf8cdfec5",
   "metadata": {},
   "outputs": [
    {
     "name": "stdout",
     "output_type": "stream",
     "text": [
      "0\n",
      "1\n",
      "1\n",
      "2\n",
      "3\n",
      "5\n",
      "8\n",
      "13\n",
      "21\n",
      "34\n"
     ]
    }
   ],
   "source": [
    "'''\n",
    "A generator function in Python is a special type of function that returns a generator iterator. It uses the yield keyword instead of return to return a value, and each call to the\n",
    "generator function resumes the function's execution from where it left off. This allows a generator function to generate a sequence of values on-the-fly, which can be useful for\n",
    "producing sequences of values that are expensive to compute or are too large to fit into memory all at once. A generator function is defined like a normal function, but instead of \n",
    "returning a value, it yields a value using the yield statement. The generator iterator can be obtained by calling the generator function, and its values can be iterated over using \n",
    "a for loop or the next() function.\n",
    "'''\n",
    "\n",
    "def fibonacci_sequence(n):\n",
    "    a, b = 0, 1\n",
    "    for i in range(n):\n",
    "        yield a\n",
    "        a, b = b, a + b\n",
    "        \n",
    "fib = fibonacci_sequence(10)\n",
    "for i in fib:\n",
    "    print(i)"
   ]
  },
  {
   "cell_type": "code",
   "execution_count": null,
   "id": "e4a86023-994e-485d-9311-092af8b09106",
   "metadata": {},
   "outputs": [],
   "source": [
    "# 5. Create a generator function for prime numbers less than 1000. Use the next() method to print the first 20 prime numbers."
   ]
  },
  {
   "cell_type": "code",
   "execution_count": 44,
   "id": "f46b01c5-b7d1-44bc-814c-c47e895150b3",
   "metadata": {},
   "outputs": [
    {
     "name": "stdout",
     "output_type": "stream",
     "text": [
      "2\n",
      "3\n",
      "5\n",
      "7\n",
      "11\n",
      "13\n",
      "17\n",
      "19\n",
      "23\n",
      "29\n",
      "31\n",
      "37\n",
      "41\n",
      "43\n",
      "47\n",
      "53\n",
      "59\n",
      "61\n",
      "67\n",
      "71\n"
     ]
    }
   ],
   "source": [
    "import math\n",
    "def prime_generator(n):\n",
    "    for i in range(2,n+1):\n",
    "        counter = 1\n",
    "        for j in range(2,i):\n",
    "            if i % j == 0:\n",
    "                counter = 0\n",
    "                break\n",
    "        if counter == 1:\n",
    "            yield i\n",
    "\n",
    "l = prime_generator(1000)\n",
    "for i in range(1,21):\n",
    "    print(next(l))"
   ]
  },
  {
   "cell_type": "code",
   "execution_count": null,
   "id": "96d9558e-e5fd-4bfd-8be7-8eaace51b256",
   "metadata": {},
   "outputs": [],
   "source": [
    "# 6. Write a python program to print the first 10 fibonacci numbers using a while loop."
   ]
  },
  {
   "cell_type": "code",
   "execution_count": 10,
   "id": "580ad97b-03ba-4a31-84eb-f94ae46cdb5e",
   "metadata": {},
   "outputs": [
    {
     "name": "stdout",
     "output_type": "stream",
     "text": [
      "0\n",
      "1\n",
      "1\n",
      "2\n",
      "3\n",
      "5\n",
      "8\n",
      "13\n",
      "21\n",
      "34\n"
     ]
    }
   ],
   "source": [
    "a = 0\n",
    "b = 1\n",
    "counter = 10\n",
    "while counter>0:\n",
    "    print(a)\n",
    "    c = a + b\n",
    "    a = b\n",
    "    b = c\n",
    "    counter -= 1"
   ]
  },
  {
   "cell_type": "code",
   "execution_count": 11,
   "id": "84bda874-20c0-49e2-9126-2446b55fb0ee",
   "metadata": {},
   "outputs": [],
   "source": [
    "# 7. Write a List Comprehension to iterate through the given string:'pwskills'. Expected output:['p','w','s',k','i','l','l','s']"
   ]
  },
  {
   "cell_type": "code",
   "execution_count": 12,
   "id": "e7b84a2b-9759-4f30-9204-438d3aa00244",
   "metadata": {},
   "outputs": [
    {
     "data": {
      "text/plain": [
       "['p', 'w', 's', 'k', 'i', 'l', 'l', 's']"
      ]
     },
     "execution_count": 12,
     "metadata": {},
     "output_type": "execute_result"
    }
   ],
   "source": [
    "s = 'pwskills'\n",
    "list([i for i in s])"
   ]
  },
  {
   "cell_type": "code",
   "execution_count": 13,
   "id": "9270c7f3-a75d-4524-8e11-403aebb74156",
   "metadata": {},
   "outputs": [],
   "source": [
    "# 8. Write a python program to check whether a given number is Palindrome or not using a while loop."
   ]
  },
  {
   "cell_type": "code",
   "execution_count": 16,
   "id": "1f202233-a521-4bd0-818d-07e1bd4b5b3b",
   "metadata": {},
   "outputs": [
    {
     "name": "stdout",
     "output_type": "stream",
     "text": [
      "string is not palindrom\n"
     ]
    }
   ],
   "source": [
    "s = 'racecar'\n",
    "test = ''\n",
    "counter = len(s) - 1\n",
    "while counter >= 0:\n",
    "    test += s[counter]\n",
    "    counter -= 1\n",
    "if test == s:\n",
    "    print('string is palindrom')\n",
    "else:\n",
    "    print('string is not palindrom')"
   ]
  },
  {
   "cell_type": "code",
   "execution_count": null,
   "id": "f0f0e807-6b5a-43c1-9120-8f3e3a652ca0",
   "metadata": {},
   "outputs": [],
   "source": [
    "# 9. Write a code to print odd numbers from 1 to 100 using list comprehension."
   ]
  },
  {
   "cell_type": "code",
   "execution_count": 18,
   "id": "570569ec-bc1d-49ff-a156-c1c8fe21b7ac",
   "metadata": {},
   "outputs": [
    {
     "data": {
      "text/plain": [
       "[1,\n",
       " 3,\n",
       " 5,\n",
       " 7,\n",
       " 9,\n",
       " 11,\n",
       " 13,\n",
       " 15,\n",
       " 17,\n",
       " 19,\n",
       " 21,\n",
       " 23,\n",
       " 25,\n",
       " 27,\n",
       " 29,\n",
       " 31,\n",
       " 33,\n",
       " 35,\n",
       " 37,\n",
       " 39,\n",
       " 41,\n",
       " 43,\n",
       " 45,\n",
       " 47,\n",
       " 49,\n",
       " 51,\n",
       " 53,\n",
       " 55,\n",
       " 57,\n",
       " 59,\n",
       " 61,\n",
       " 63,\n",
       " 65,\n",
       " 67,\n",
       " 69,\n",
       " 71,\n",
       " 73,\n",
       " 75,\n",
       " 77,\n",
       " 79,\n",
       " 81,\n",
       " 83,\n",
       " 85,\n",
       " 87,\n",
       " 89,\n",
       " 91,\n",
       " 93,\n",
       " 95,\n",
       " 97,\n",
       " 99]"
      ]
     },
     "execution_count": 18,
     "metadata": {},
     "output_type": "execute_result"
    }
   ],
   "source": [
    "list([i for i in range(1,101,2)])"
   ]
  }
 ],
 "metadata": {
  "kernelspec": {
   "display_name": "Python 3 (ipykernel)",
   "language": "python",
   "name": "python3"
  },
  "language_info": {
   "codemirror_mode": {
    "name": "ipython",
    "version": 3
   },
   "file_extension": ".py",
   "mimetype": "text/x-python",
   "name": "python",
   "nbconvert_exporter": "python",
   "pygments_lexer": "ipython3",
   "version": "3.10.8"
  }
 },
 "nbformat": 4,
 "nbformat_minor": 5
}
