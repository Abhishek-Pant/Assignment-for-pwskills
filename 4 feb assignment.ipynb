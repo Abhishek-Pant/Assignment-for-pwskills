{
 "cells": [
  {
   "cell_type": "code",
   "execution_count": 1,
   "id": "b643897e-b8ac-4d39-8848-d40e8d305354",
   "metadata": {},
   "outputs": [],
   "source": [
    "# 1. Crate a python program to sort the given list to tuples based on integer value using a lambda function.\n",
    "# [('Sachin Tendulkar',34357),('Ricky Ponting',27483),('Jack Kallis',25534),('Virat Kohli',24936)]"
   ]
  },
  {
   "cell_type": "code",
   "execution_count": 11,
   "id": "0dd76531-35e4-4e63-b51c-7df6cb38e381",
   "metadata": {},
   "outputs": [
    {
     "data": {
      "text/plain": [
       "[('Sachin Tendulkar', 34357),\n",
       " ('Ricky Ponting', 27483),\n",
       " ('Jack Kallis', 25534),\n",
       " ('Virat Kohli', 24936)]"
      ]
     },
     "execution_count": 11,
     "metadata": {},
     "output_type": "execute_result"
    }
   ],
   "source": [
    "t = [('Sachin Tendulkar',34357),('Ricky Ponting',27483),('Jack Kallis',25534),('Virat Kohli',24936)]\n",
    "t = sorted(t, key = lambda x : x[1], reverse = True)\n",
    "t"
   ]
  },
  {
   "cell_type": "code",
   "execution_count": 2,
   "id": "46550d39-8fd8-4073-be4f-4aec8f44c6ec",
   "metadata": {},
   "outputs": [],
   "source": [
    "# 2.  Write a Python Program to find the squares of all the numbers in the given list of interges using lambda and map functions.\n",
    "# [1,2,3,4,5,6,7,8,9,10]"
   ]
  },
  {
   "cell_type": "code",
   "execution_count": 16,
   "id": "6b088360-01cf-477d-a19d-bf7c2a8d92e1",
   "metadata": {},
   "outputs": [
    {
     "data": {
      "text/plain": [
       "[1, 4, 9, 16, 25, 36, 49, 64, 81, 100]"
      ]
     },
     "execution_count": 16,
     "metadata": {},
     "output_type": "execute_result"
    }
   ],
   "source": [
    "l1 = [1,2,3,4,5,6,7,8,9,10]\n",
    "l2 = list(map(lambda x: x**2,l1))\n",
    "l2"
   ]
  },
  {
   "cell_type": "code",
   "execution_count": 3,
   "id": "345c5477-3851-48a3-8073-7b3e2cc8e1a3",
   "metadata": {},
   "outputs": [],
   "source": [
    "# 3. Write a python program to convert the given list of integers into a tuple of stings, Use map and lambda functions.\n",
    "# Given String :[1,2,3,4,5,6,7,8,9,10]"
   ]
  },
  {
   "cell_type": "code",
   "execution_count": 17,
   "id": "d9a00cfb-5125-4af5-a79f-eac13ea6a1ce",
   "metadata": {},
   "outputs": [
    {
     "data": {
      "text/plain": [
       "('1', '2', '3', '4', '5', '6', '7', '8', '9', '10')"
      ]
     },
     "execution_count": 17,
     "metadata": {},
     "output_type": "execute_result"
    }
   ],
   "source": [
    "l =  [1,2,3,4,5,6,7,8,9,10]\n",
    "t = tuple(map(lambda x: str(x),l))\n",
    "t"
   ]
  },
  {
   "cell_type": "code",
   "execution_count": 4,
   "id": "a31c27e4-82f1-4ac7-8e6b-2b6a4806e675",
   "metadata": {},
   "outputs": [],
   "source": [
    "# 4. Write a python program using reduce fucntion to compute the product of a list containing numbers from 1 t 25."
   ]
  },
  {
   "cell_type": "code",
   "execution_count": 24,
   "id": "87da846e-4008-42f3-a891-2943320e42ce",
   "metadata": {},
   "outputs": [
    {
     "name": "stdout",
     "output_type": "stream",
     "text": [
      "325\n",
      "325\n"
     ]
    }
   ],
   "source": [
    "from functools import reduce\n",
    "l = []\n",
    "for i in range(1,26):\n",
    "    l.append(i)\n",
    "sum1 = reduce(lambda x,y: x+y,l)\n",
    "print(sum1)\n",
    "\n",
    "# or \n",
    "\n",
    "sum2 = reduce(lambda x,y: x+y, range(1,26))\n",
    "print(sum2)"
   ]
  },
  {
   "cell_type": "code",
   "execution_count": 5,
   "id": "30cb60f1-1a54-46cd-be16-a645aaa7107a",
   "metadata": {},
   "outputs": [],
   "source": [
    "# 5. Write a python progarm to filter the numbers in a given list that are divisible by 2 and 3 using the filter functon.\n",
    "# [2,3,6,9,27,60,120,55,46]"
   ]
  },
  {
   "cell_type": "code",
   "execution_count": 28,
   "id": "133664f0-8b06-4e9d-990d-6dd9b525d374",
   "metadata": {},
   "outputs": [
    {
     "data": {
      "text/plain": [
       "[6, 60, 120]"
      ]
     },
     "execution_count": 28,
     "metadata": {},
     "output_type": "execute_result"
    }
   ],
   "source": [
    "l = [2,3,6,9,27,60,120,55,46]\n",
    "l2 = list(filter(lambda x : x % 2 == 0 and x % 3 == 0,l))\n",
    "l2"
   ]
  },
  {
   "cell_type": "code",
   "execution_count": 6,
   "id": "15078b15-5f3f-4e6c-80c3-80a3d273992e",
   "metadata": {},
   "outputs": [],
   "source": [
    "# 6. Write a python program to find palindromes in the given list of strings using lambda and filter function.\n",
    "# ['python','php','aba','radar','level']"
   ]
  },
  {
   "cell_type": "code",
   "execution_count": 30,
   "id": "334efa78-4d11-47c0-b446-1f4957f5a224",
   "metadata": {},
   "outputs": [
    {
     "data": {
      "text/plain": [
       "['php', 'aba', 'radar', 'level']"
      ]
     },
     "execution_count": 30,
     "metadata": {},
     "output_type": "execute_result"
    }
   ],
   "source": [
    "l = ['python','php','aba','radar','level']\n",
    "def is_palindrome(s):\n",
    "    for i in range(len(s)):\n",
    "        if s[i] != s[len(s)-1-i]:\n",
    "            return False\n",
    "    return True\n",
    "ans = list(filter(lambda x: is_palindrome(x),l))\n",
    "ans"
   ]
  },
  {
   "cell_type": "code",
   "execution_count": null,
   "id": "6c7fb3ce-b848-4cd8-ad2a-10481e8e36a6",
   "metadata": {},
   "outputs": [],
   "source": []
  }
 ],
 "metadata": {
  "kernelspec": {
   "display_name": "Python 3 (ipykernel)",
   "language": "python",
   "name": "python3"
  },
  "language_info": {
   "codemirror_mode": {
    "name": "ipython",
    "version": 3
   },
   "file_extension": ".py",
   "mimetype": "text/x-python",
   "name": "python",
   "nbconvert_exporter": "python",
   "pygments_lexer": "ipython3",
   "version": "3.10.8"
  }
 },
 "nbformat": 4,
 "nbformat_minor": 5
}
