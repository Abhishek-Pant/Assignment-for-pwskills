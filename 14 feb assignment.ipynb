{
 "cells": [
  {
   "cell_type": "code",
   "execution_count": 1,
   "id": "f1f93476-09c8-481f-a413-bc35f9848855",
   "metadata": {},
   "outputs": [],
   "source": [
    "# 1. What is multithreading in python? Why is it used? Name the module used to handle threads in python."
   ]
  },
  {
   "cell_type": "code",
   "execution_count": null,
   "id": "2ddbe2e6-c9d3-476e-9233-789746594237",
   "metadata": {},
   "outputs": [],
   "source": [
    "'''\n",
    "Multithreading in Python refers to the ability of a program to run multiple threads of execution concurrently within a single process. A thread is a lightweight process that \n",
    "can run simultaneously with other threads and shares the same memory space as the parent process. Multithreading is used to improve the performance of a program by allowing \n",
    "it to perform multiple tasks at the same time. It is particularly useful in I/O bound tasks where the program can perform other tasks while waiting for I/O operations to complete.\n",
    "\n",
    "The module used to handle threads in Python is called the threading module. It provides a high-level interface for creating and managing threads, as well as synchronization\n",
    "primitives such as locks and semaphores. The threading module is part of the Python standard library and is available on all platforms that support Python. It provides a simple\n",
    "and easy-to-use API for working with threads in Python.\n",
    "'''"
   ]
  },
  {
   "cell_type": "code",
   "execution_count": 2,
   "id": "1314201d-69db-4fe5-893a-8b6b3309012e",
   "metadata": {},
   "outputs": [],
   "source": [
    "# 2. Why threading module is used? Write the use of the following functions:\n",
    "# activeCount()\n",
    "# currentThread()\n",
    "# enumerate()"
   ]
  },
  {
   "cell_type": "code",
   "execution_count": null,
   "id": "f41b2c7d-ba59-4380-aa67-857657ef1a80",
   "metadata": {},
   "outputs": [],
   "source": [
    "'''\n",
    "The threading module in Python is used to create, manage, and manipulate threads of execution within a single process. It provides a high-level interface for working with\n",
    "threads, including creating new threads, managing thread synchronization, and coordinating thread execution.\n",
    "\n",
    "The following are the uses of the functions in the threading module:\n",
    "\n",
    "1. activeCount(): This function returns the number of Thread objects that are currently active in the current process. An active thread is a thread that has been started but has\n",
    "not yet completed or been terminated.\n",
    "2. currentThread(): This function returns a Thread object that represents the current thread of execution. The current thread is the thread that is executing the code that calls\n",
    "this function.\n",
    "3. enumerate(): This function returns a list of all Thread objects that are currently active in the current process. The list includes the current thread as well as any other \n",
    "active threads. Each element of the list is a Thread object. The order of the elements in the list is arbitrary and may change from call to call.\n",
    "\n",
    "These functions are useful for managing and monitoring threads in a Python program. For example, activeCount() can be used to determine if the program has reached a maximum\n",
    "number of active threads, while currentThread() can be used to identify the current thread for debugging or logging purposes. enumerate() can be used to iterate over all active\n",
    "threads and perform some operation on each one, such as stopping or pausing the thread.\n",
    "'''"
   ]
  },
  {
   "cell_type": "code",
   "execution_count": 3,
   "id": "8bb40e92-9157-437b-8f00-7ee1d4e97f8f",
   "metadata": {},
   "outputs": [],
   "source": [
    "# 3. Explain the following functinos:\n",
    "# run()\n",
    "# start()\n",
    "# join()\n",
    "# isAlive()"
   ]
  },
  {
   "cell_type": "code",
   "execution_count": null,
   "id": "47eeb864-49e6-469c-b8ab-42ccbd3610e5",
   "metadata": {},
   "outputs": [],
   "source": [
    "'''\n",
    "The following are the explanations of the functions related to the Thread class in Python's threading module:\n",
    "\n",
    "1. run(): This function is the entry point for a thread's execution. When a thread is started by calling its start() method, the run() method is called in a separate thread of\n",
    "execution. This is where the actual work of the thread should be performed.\n",
    "2. start(): This function starts the thread's execution by creating a new thread of execution and invoking the thread's run() method in that thread. The start() method returns \n",
    "immediately, and the new thread begins executing asynchronously with the main thread of the program.\n",
    "3. join(): This function blocks the calling thread until the thread on which it is called has completed its execution. When a thread is started, the main thread of the program \n",
    "continues executing, and the new thread executes concurrently with the main thread. If the main thread needs to wait for the new thread to complete before continuing, it can \n",
    "call the join() method on the new thread. The main thread will be blocked until the new thread has completed its execution.\n",
    "4. isAlive(): This function returns a Boolean value that indicates whether the thread is currently executing. It returns True if the thread is currently running and has not yet\n",
    "completed its execution, and False otherwise. This can be useful for checking the status of a thread and determining whether it is safe to perform certain operations on it,\n",
    "such as calling its join() method.\n",
    "\n",
    "These functions are important for working with threads in Python's threading module. run() and start() are the main entry points for defining and starting new threads, while \n",
    "join() is used for synchronization between threads. isAlive() provides a way to query the status of a thread and determine whether it is safe to perform certain operations on it.\n",
    "'''"
   ]
  },
  {
   "cell_type": "code",
   "execution_count": 4,
   "id": "5d396048-577c-4f31-8cd8-b3a6b06ec848",
   "metadata": {},
   "outputs": [],
   "source": [
    "# 4. Write a python program to create two threads. Thread one must print the list of squares and thread two must print the list of cubes."
   ]
  },
  {
   "cell_type": "code",
   "execution_count": 7,
   "id": "2cdcbe06-d23c-483b-9261-644afaed7a31",
   "metadata": {},
   "outputs": [
    {
     "name": "stdout",
     "output_type": "stream",
     "text": [
      "Square of 1 is 1\n",
      "Square of 2 is 4\n",
      "Square of 3 is 9\n",
      "Square of 4 is 16\n",
      "Square of 5 is 25\n",
      "Square of 6 is 36\n",
      "Square of 7 is 49\n",
      "Square of 8 is 64\n",
      "Square of 9 is 81\n",
      "Square of 10 is 100\n",
      "Cube of 1 is 1\n",
      "Cube of 2 is 8\n",
      "Cube of 3 is 27\n",
      "Cube of 4 is 64\n",
      "Cube of 5 is 125\n",
      "Cube of 6 is 216\n",
      "Cube of 7 is 343\n",
      "Cube of 8 is 512\n",
      "Cube of 9 is 729\n",
      "Cube of 10 is 1000\n",
      "Done!\n"
     ]
    }
   ],
   "source": [
    "import threading\n",
    "\n",
    "def print_squares():\n",
    "    for i in range(1, 11):\n",
    "        print(f\"Square of {i} is {i*i}\")\n",
    "\n",
    "def print_cubes():\n",
    "    for i in range(1, 11):\n",
    "        print(f\"Cube of {i} is {i*i*i}\")\n",
    "\n",
    "t1 = threading.Thread(target=print_squares)\n",
    "t2 = threading.Thread(target=print_cubes)\n",
    "\n",
    "t1.start()\n",
    "t2.start()\n",
    "\n",
    "t1.join()\n",
    "t2.join()\n",
    "\n",
    "print(\"Done!\")"
   ]
  },
  {
   "cell_type": "code",
   "execution_count": 5,
   "id": "8c5f42ae-105b-415d-859f-b68042eb81bb",
   "metadata": {},
   "outputs": [],
   "source": [
    "# 5. State advntages and disadvantages of multithreading."
   ]
  },
  {
   "cell_type": "code",
   "execution_count": null,
   "id": "43d1cbb9-8cd5-42f8-856b-8d5191ea7dd1",
   "metadata": {},
   "outputs": [],
   "source": [
    "'''\n",
    "Multithreading has several advantages and disadvantages, which are summarized below:\n",
    "\n",
    "Advantages:\n",
    "\n",
    "1. Increased performance: Multithreading can increase the performance of a program by allowing multiple tasks to execute simultaneously. This can be especially beneficial \n",
    "for programs that perform a lot of I/O or CPU-bound operations, as it allows for better utilization of system resources.\n",
    "2. Improved responsiveness: Multithreading can improve the responsiveness of a program by allowing it to perform multiple tasks in the background while still responding to \n",
    "user input or other events.\n",
    "3. Simplified programming: Multithreading can simplify programming by allowing complex operations to be broken down into smaller, more manageable tasks that can be executed \n",
    "concurrently.\n",
    "4. Resource sharing: Multithreading can allow multiple threads to share resources such as memory, files, and other system resources, which can reduce the overall resource \n",
    "usage of the program.\n",
    "\n",
    "Disadvantages:\n",
    "\n",
    "1 .Increased complexity: Multithreading can increase the complexity of a program by introducing the need for synchronization and coordination between threads, which can be\n",
    "difficult to implement correctly.\n",
    "2. Increased risk of errors: Multithreading can increase the risk of errors such as race conditions, deadlocks, and other synchronization issues that can be difficult to \n",
    "detect and debug.\n",
    "3. Overhead: Multithreading can introduce overhead due to the need to create and manage multiple threads, which can reduce the overall performance of the program.\n",
    "4. Difficulty in debugging: Multithreaded programs can be more difficult to debug than single-threaded programs, as errors and bugs can be intermittent and difficult to reproduce.\n",
    "'''\n"
   ]
  },
  {
   "cell_type": "code",
   "execution_count": null,
   "id": "2f3580a1-558c-4138-9856-bf433cc88d11",
   "metadata": {},
   "outputs": [],
   "source": [
    "# 6. Explain deadlocks and race conditions."
   ]
  },
  {
   "cell_type": "code",
   "execution_count": null,
   "id": "a4016743-285f-4d66-884f-3f68fc25289c",
   "metadata": {},
   "outputs": [],
   "source": [
    "'''\n",
    "Deadlocks and race conditions are two common issues that can occur in multithreaded programs.\n",
    "\n",
    "A deadlock occurs when two or more threads are waiting for each other to release a resource that they need in order to proceed. This can happen when two or more threads \n",
    "acquire resources in a different order, leading to a circular wait. In a deadlock, each thread is blocked, waiting for a resource that will never become available, and \n",
    "the program becomes stuck in an infinite loop.\n",
    "For example, imagine two threads, A and B, that both need to acquire two resources, X and Y, to complete their tasks. If thread A acquires resource X and then waits for \n",
    "resource Y, while thread B acquires resource Y and then waits for resource X, a deadlock occurs. Neither thread can proceed until it receives the resource that the other\n",
    "thread is holding, but neither thread can release the resource it is holding because it needs the other resource to complete its task.\n",
    "\n",
    "A race condition occurs when two or more threads access a shared resource concurrently, and the outcome of the program depends on the order in which the threads execute.\n",
    "This can lead to unpredictable and inconsistent behavior, as the value of the shared resource can change depending on which thread accesses it first.\n",
    "For example, imagine two threads, A and B, that both want to increment a shared variable, counter, by 1. If thread A reads the value of counter and then adds 1, while \n",
    "thread B does the same, the final value of counter will depend on which thread executes its operation last. If both threads read the value of counter at the same time,\n",
    "increment it, and then write it back, the final value of counter will be higher than expected, as both threads will have added 1 to the same initial value.\n",
    "\n",
    "Deadlocks and race conditions can be difficult to detect and debug, as they can occur sporadically and depend on the timing of thread execution. Careful design and testing\n",
    "of multithreaded programs, including the use of synchronization mechanisms such as locks, semaphores, and condition variables, can help to prevent and mitigate these issues.\n",
    "'''\n"
   ]
  }
 ],
 "metadata": {
  "kernelspec": {
   "display_name": "Python 3 (ipykernel)",
   "language": "python",
   "name": "python3"
  },
  "language_info": {
   "codemirror_mode": {
    "name": "ipython",
    "version": 3
   },
   "file_extension": ".py",
   "mimetype": "text/x-python",
   "name": "python",
   "nbconvert_exporter": "python",
   "pygments_lexer": "ipython3",
   "version": "3.10.8"
  }
 },
 "nbformat": 4,
 "nbformat_minor": 5
}
